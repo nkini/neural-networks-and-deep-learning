{
 "cells": [
  {
   "cell_type": "code",
   "execution_count": 1,
   "metadata": {
    "collapsed": false
   },
   "outputs": [
    {
     "name": "stderr",
     "output_type": "stream",
     "text": [
      "/usr/local/lib/python2.7/dist-packages/matplotlib/font_manager.py:273: UserWarning: Matplotlib is building the font cache using fc-list. This may take a moment.\n",
      "  warnings.warn('Matplotlib is building the font cache using fc-list. This may take a moment.')\n",
      "/usr/local/lib/python2.7/dist-packages/IPython/html.py:14: ShimWarning: The `IPython.html` package has been deprecated. You should import from `notebook` instead. `IPython.html.widgets` has moved to `ipywidgets`.\n",
      "  \"`IPython.html.widgets` has moved to `ipywidgets`.\", ShimWarning)\n"
     ]
    }
   ],
   "source": [
    "import network\n",
    "import mnist_loader\n",
    "import random\n",
    "import numpy as np\n",
    "import seaborn\n",
    "%matplotlib inline\n",
    "import sys\n",
    "sys.path.append(\"../fig/\")\n",
    "import mnist\n",
    "import moviepy.editor as mpy\n",
    "from matplotlib import pyplot as plt\n",
    "from matplotlib import animation\n",
    "import time\n",
    "import matplotlib\n",
    "import pickle\n",
    "import cPickle\n",
    "import gzip"
   ]
  },
  {
   "cell_type": "code",
   "execution_count": 2,
   "metadata": {
    "collapsed": true
   },
   "outputs": [],
   "source": [
    "training_data, validation_data, test_data = mnist_loader.load_data()"
   ]
  },
  {
   "cell_type": "code",
   "execution_count": 3,
   "metadata": {
    "collapsed": false
   },
   "outputs": [
    {
     "data": {
      "text/plain": [
       "tuple"
      ]
     },
     "execution_count": 3,
     "metadata": {},
     "output_type": "execute_result"
    }
   ],
   "source": [
    "type(training_data)"
   ]
  },
  {
   "cell_type": "code",
   "execution_count": 4,
   "metadata": {
    "collapsed": false
   },
   "outputs": [
    {
     "data": {
      "text/plain": [
       "array([5, 0, 4, ..., 8, 4, 8])"
      ]
     },
     "execution_count": 4,
     "metadata": {},
     "output_type": "execute_result"
    }
   ],
   "source": [
    "training_data[1]"
   ]
  },
  {
   "cell_type": "code",
   "execution_count": 5,
   "metadata": {
    "collapsed": false
   },
   "outputs": [
    {
     "name": "stdout",
     "output_type": "stream",
     "text": [
      "50000\n",
      "50000\n",
      "2\n"
     ]
    }
   ],
   "source": [
    "print len(training_data[0])\n",
    "print len(training_data[1])\n",
    "print len(training_data)"
   ]
  },
  {
   "cell_type": "code",
   "execution_count": 6,
   "metadata": {
    "collapsed": true
   },
   "outputs": [],
   "source": [
    "from collections import defaultdict\n",
    "T = defaultdict(list)"
   ]
  },
  {
   "cell_type": "code",
   "execution_count": 7,
   "metadata": {
    "collapsed": false
   },
   "outputs": [],
   "source": [
    "for img,digit in zip(training_data[0],training_data[1]):\n",
    "    T[digit].append(img)"
   ]
  },
  {
   "cell_type": "code",
   "execution_count": 8,
   "metadata": {
    "collapsed": false
   },
   "outputs": [
    {
     "name": "stdout",
     "output_type": "stream",
     "text": [
      "[0, 1, 2, 3, 4, 5, 6, 7, 8, 9]\n"
     ]
    }
   ],
   "source": [
    "# making sure our d is what we expect it to be\n",
    "print T.keys()"
   ]
  },
  {
   "cell_type": "code",
   "execution_count": 9,
   "metadata": {
    "collapsed": false
   },
   "outputs": [
    {
     "name": "stdout",
     "output_type": "stream",
     "text": [
      "4932\n",
      "5678\n",
      "4968\n",
      "5101\n",
      "4859\n",
      "4506\n",
      "4951\n",
      "5175\n",
      "4842\n",
      "4988\n"
     ]
    }
   ],
   "source": [
    "# Checking the cardinality of T_d for each d\n",
    "#for digit in T.keys():\n",
    "for digit in range(0,10):\n",
    "    print len(T[digit])"
   ]
  },
  {
   "cell_type": "code",
   "execution_count": 11,
   "metadata": {
    "collapsed": true
   },
   "outputs": [],
   "source": [
    "save(T,'newdata/T.pkl.gz')"
   ]
  },
  {
   "cell_type": "code",
   "execution_count": 10,
   "metadata": {
    "collapsed": false
   },
   "outputs": [],
   "source": [
    "# fix d = 0 for now\n",
    "# choose x1 and x2 uniformly at random\n",
    "i1,i2 = random.sample(xrange(len(T[0])-1),2)\n",
    "#print i1,i2\n",
    "x1,x2 = T[0][i1],T[0][i2]\n",
    "#print x1\n",
    "#print x2"
   ]
  },
  {
   "cell_type": "code",
   "execution_count": 11,
   "metadata": {
    "collapsed": false
   },
   "outputs": [],
   "source": [
    "x = x2 - x1\n",
    "#>>> x = numpy.array([0,1,2,3,0,5,6,0,8,9])\n",
    "#>>> numpy.nonzero(x)\n",
    "#(array([1, 2, 3, 5, 6, 8, 9]),)\n",
    "S = set(np.nonzero(x)[0])"
   ]
  },
  {
   "cell_type": "code",
   "execution_count": 12,
   "metadata": {
    "collapsed": true
   },
   "outputs": [],
   "source": [
    "def jx(j,x):\n",
    "    vec = np.zeros_like(x)\n",
    "    vec[j] = x[j] \n",
    "    return vec\n",
    "\n",
    "def select_random_j(S):\n",
    "    return random.choice(tuple(S))"
   ]
  },
  {
   "cell_type": "code",
   "execution_count": 13,
   "metadata": {
    "collapsed": false
   },
   "outputs": [],
   "source": [
    "y = [0]*len(S)\n",
    "y[0] = x1\n",
    "\n",
    "num_S = len(S)\n",
    "for i in range(1,num_S):\n",
    "    j = select_random_j(S)\n",
    "    S.remove(j)\n",
    "    y[i] = y[i-1] + jx(j,x)"
   ]
  },
  {
   "cell_type": "code",
   "execution_count": 6,
   "metadata": {
    "collapsed": true
   },
   "outputs": [],
   "source": [
    "def unflatten_images(flattened_images):\n",
    "    return [np.reshape(f, (-1, 28)) for f in flattened_images]"
   ]
  },
  {
   "cell_type": "code",
   "execution_count": 15,
   "metadata": {
    "collapsed": false
   },
   "outputs": [
    {
     "name": "stdout",
     "output_type": "stream",
     "text": [
      "what x1 looks like:\n"
     ]
    },
    {
     "data": {
      "image/png": "[encoded data removed]",
      "text/plain": [
       "<matplotlib.figure.Figure at 0x7fb537c6c110>"
      ]
     },
     "metadata": {},
     "output_type": "display_data"
    },
    {
     "name": "stdout",
     "output_type": "stream",
     "text": [
      "what x2 looks like:\n"
     ]
    },
    {
     "data": {
      "image/png": "[encoded data removed]",
      "text/plain": [
       "<matplotlib.figure.Figure at 0x7fb537bb8850>"
      ]
     },
     "metadata": {},
     "output_type": "display_data"
    }
   ],
   "source": [
    "img_x1,img_x2 = unflatten_images([x1,x2])\n",
    "print \"what x1 looks like:\"\n",
    "mnist.plot_mnist_digit(img_x1)\n",
    "print \"what x2 looks like:\"\n",
    "mnist.plot_mnist_digit(img_x2)"
   ]
  },
  {
   "cell_type": "code",
   "execution_count": 70,
   "metadata": {
    "collapsed": true
   },
   "outputs": [],
   "source": [
    "from tempfile import NamedTemporaryFile\n",
    "\n",
    "VIDEO_TAG = \"\"\"<video controls>\n",
    " <source src=\"data:video/x-m4v;base64,{0}\" type=\"video/mp4\">\n",
    " Your browser does not support the video tag.\n",
    "</video>\"\"\"\n",
    "\n",
    "def anim_to_html(anim):\n",
    "    if not hasattr(anim, '_encoded_video'):\n",
    "        with NamedTemporaryFile(suffix='.mp4') as f:\n",
    "            anim.save(f.name, fps=20, extra_args=['-vcodec', 'libx264'])\n",
    "            video = open(f.name, \"rb\").read()\n",
    "        anim._encoded_video = video.encode(\"base64\")\n",
    "    \n",
    "    return VIDEO_TAG.format(anim._encoded_video)\n",
    "\n",
    "from IPython.display import HTML\n",
    "\n",
    "def display_animation(anim):\n",
    "    plt.close(anim._fig)\n",
    "    return HTML(anim_to_html(anim))"
   ]
  },
  {
   "cell_type": "code",
   "execution_count": 24,
   "metadata": {
    "collapsed": false
   },
   "outputs": [
    {
     "data": {
      "text/plain": [
       "([], <a list of 0 Text yticklabel objects>)"
      ]
     },
     "execution_count": 24,
     "metadata": {},
     "output_type": "execute_result"
    },
    {
     "data": {
      "image/png": "[encoded data removed]",
      "text/plain": [
       "<matplotlib.figure.Figure at 0x7fb536438d10>"
      ]
     },
     "metadata": {},
     "output_type": "display_data"
    }
   ],
   "source": [
    "y_imgs = unflatten_images(y)\n",
    "\n",
    "def update(i):\n",
    "    global y_imgs, mat\n",
    "    mat.set_data(y_imgs[i])\n",
    "    return mat \n",
    "\n",
    "def init():\n",
    "    mat.set_data(y_imgs[0])\n",
    "    return mat\n",
    "\n",
    "'''\n",
    "def data_gen():\n",
    "    for i in range(1,len(y_imgs)):\n",
    "        yield y_imgs[i]\n",
    "'''\n",
    "\n",
    "fig, ax = plt.subplots()\n",
    "mat = ax.matshow(y_imgs[0])\n",
    "anim = animation.FuncAnimation(fig=fig, init_func=init, func=update, frames=len(y_imgs), interval=10, blit=False)\n",
    "plt.xticks(np.array([]))\n",
    "plt.yticks(np.array([]))\n",
    "#plt.show()"
   ]
  },
  {
   "cell_type": "code",
   "execution_count": 14,
   "metadata": {
    "collapsed": false
   },
   "outputs": [],
   "source": [
    "def unflatten_images(flattened_images):\n",
    "    return [np.reshape(f, (-1, 28)) for f in flattened_images]\n",
    "\n",
    "def jx(j,x):\n",
    "    vec = np.zeros_like(x)\n",
    "    vec[j] = x[j] \n",
    "    return vec\n",
    "\n",
    "def select_random_j(S):\n",
    "    return random.choice(tuple(S))\n",
    "\n",
    "def plot_x1_x2_x(x1,x2,x):\n",
    "    fig = plt.figure()\n",
    "    ax1 = fig.add_subplot(1, 3, 1)\n",
    "    ax1.matshow(x1, cmap = matplotlib.cm.binary)\n",
    "    plt.xticks(np.array([]))\n",
    "    plt.yticks(np.array([]))\n",
    "    ax2 = fig.add_subplot(1, 3, 2)\n",
    "    ax2.matshow(x2, cmap = matplotlib.cm.binary)\n",
    "    plt.xticks(np.array([]))\n",
    "    plt.yticks(np.array([]))\n",
    "    ax = fig.add_subplot(1, 3, 3)\n",
    "    ax.matshow(x, cmap = matplotlib.cm.binary)\n",
    "    plt.xticks(np.array([]))\n",
    "    plt.yticks(np.array([]))\n",
    "    plt.show()"
   ]
  },
  {
   "cell_type": "code",
   "execution_count": 74,
   "metadata": {
    "collapsed": false
   },
   "outputs": [],
   "source": [
    "plt.ioff()\n",
    "def generate_new_data(d):\n",
    "    i1,i2 = random.sample(xrange(len(T[d])-1),2)\n",
    "    x1,x2 = T[d][i1],T[d][i2]\n",
    "    x = x2 - x1\n",
    "    S = set(np.nonzero(x)[0])\n",
    "\n",
    "    y = [0]*len(S)\n",
    "    y[0] = x1\n",
    "\n",
    "    num_S = len(S)\n",
    "    for i in range(1,num_S):\n",
    "        j = select_random_j(S)\n",
    "        S.remove(j)\n",
    "        y[i] = y[i-1] + jx(j,x)\n",
    "        \n",
    "    img_x1,img_x2,img_x = unflatten_images([x1,x2,x])\n",
    "    '''\n",
    "    print \"what x1 looks like:\"\n",
    "    mnist.plot_mnist_digit(img_x1)\n",
    "    print \"what x2 looks like:\"\n",
    "    mnist.plot_mnist_digit(img_x2)\n",
    "    print \"what x looks like:\"\n",
    "    mnist.plot_mnist_digit(img_x)\n",
    "    '''\n",
    "    plot_x1_x2_x(img_x1,img_x2,img_x)\n",
    "    \n",
    "    y_imgs = unflatten_images(y)\n",
    "\n",
    "    def update(i):\n",
    "        #global y_imgs, mat\n",
    "        mat.set_data(y_imgs[i])\n",
    "        return mat \n",
    "\n",
    "    def init():\n",
    "        #global y_imgs\n",
    "        mat.set_data(y_imgs[0])\n",
    "        return mat\n",
    "        \n",
    "    fig, ax = plt.subplots()\n",
    "    mat = ax.matshow(y_imgs[0])\n",
    "    anim = animation.FuncAnimation(fig=fig, init_func=init, func=update, frames=len(y_imgs), interval=10, blit=False)\n",
    "    plt.xticks(np.array([]))\n",
    "    plt.yticks(np.array([]))\n",
    "\n",
    "    writer = animation.FFMpegWriter(fps=20)\n",
    "    anim.save('animation-'+str(d)+'.mp4',writer=writer)\n",
    "    #anim.save('animation-'+str(d)+'.gif',writer='imagemagick', fps=20)\n",
    "    #display_animation(anim)\n",
    "    plt.close(fig)\n",
    "    \n",
    "    return y"
   ]
  },
  {
   "cell_type": "code",
   "execution_count": 75,
   "metadata": {
    "collapsed": false
   },
   "outputs": [
    {
     "data": {
      "image/png": "[encoded data removed]",
      "text/plain": [
       "<matplotlib.figure.Figure at 0x7fb5360c5550>"
      ]
     },
     "metadata": {},
     "output_type": "display_data"
    },
    {
     "data": {
      "image/png": "[encoded data removed]",
      "text/plain": [
       "<matplotlib.figure.Figure at 0x7fb5316831d0>"
      ]
     },
     "metadata": {},
     "output_type": "display_data"
    },
    {
     "data": {
      "image/png": "[encoded data removed]",
      "text/plain": [
       "<matplotlib.figure.Figure at 0x7fb537769110>"
      ]
     },
     "metadata": {},
     "output_type": "display_data"
    },
    {
     "data": {
      "image/png": "[encoded data removed]",
      "text/plain": [
       "<matplotlib.figure.Figure at 0x7fb537995d90>"
      ]
     },
     "metadata": {},
     "output_type": "display_data"
    },
    {
     "data": {
      "image/png": "[encoded data removed]",
      "text/plain": [
       "<matplotlib.figure.Figure at 0x7fb536118550>"
      ]
     },
     "metadata": {},
     "output_type": "display_data"
    },
    {
     "data": {
      "image/png": "[encoded data removed]",
      "text/plain": [
       "<matplotlib.figure.Figure at 0x7fb5315ccf10>"
      ]
     },
     "metadata": {},
     "output_type": "display_data"
    },
    {
     "data": {
      "image/png": "[encoded data removed]",
      "text/plain": [
       "<matplotlib.figure.Figure at 0x7fb5317e6650>"
      ]
     },
     "metadata": {},
     "output_type": "display_data"
    },
    {
     "data": {
      "image/png": "[encoded data removed]",
      "text/plain": [
       "<matplotlib.figure.Figure at 0x7fb537496190>"
      ]
     },
     "metadata": {},
     "output_type": "display_data"
    },
    {
     "data": {
      "image/png": "[encoded data removed]",
      "text/plain": [
       "<matplotlib.figure.Figure at 0x7fb531568290>"
      ]
     },
     "metadata": {},
     "output_type": "display_data"
    },
    {
     "data": {
      "image/png": "[encoded data removed]",
      "text/plain": [
       "<matplotlib.figure.Figure at 0x7fb535eac150>"
      ]
     },
     "metadata": {},
     "output_type": "display_data"
    }
   ],
   "source": [
    "y_ = [0]*10\n",
    "for i in range(10):\n",
    "    y_[i] = generate_new_data(i)"
   ]
  },
  {
   "cell_type": "code",
   "execution_count": 108,
   "metadata": {
    "collapsed": false
   },
   "outputs": [],
   "source": [
    "def generate_candidate_pairs(d,num_iter):\n",
    "    num_diff_pix = defaultdict(set)\n",
    "    k = 0\n",
    "    while k < num_iter:\n",
    "        i1,i2 = random.sample(xrange(len(T[d])-1),2)\n",
    "        if i2 < i1:\n",
    "            temp = i1\n",
    "            i1 = i2\n",
    "            i2 = temp\n",
    "        x1,x2 = T[d][i1],T[d][i2]\n",
    "        x = x2 - x1\n",
    "        S = set(np.nonzero(x)[0])\n",
    "        num_diff_pix[len(S)].add((i1,i2))\n",
    "        k+=1\n",
    "    return num_diff_pix"
   ]
  },
  {
   "cell_type": "code",
   "execution_count": 93,
   "metadata": {
    "collapsed": false
   },
   "outputs": [
    {
     "name": "stdout",
     "output_type": "stream",
     "text": [
      "33.022755146\n"
     ]
    }
   ],
   "source": [
    "start = time.time()\n",
    "num_iter = 1000000\n",
    "num_diff_pix = generate_candidate_pairs(0,num_iter)\n",
    "end = time.time()\n",
    "print(end - start)\n",
    "# time taken for various iterations\n",
    "#100:    0.324348926544\n",
    "#1000:   0.0615410804749\n",
    "#10000:  0.353132963181\n",
    "#100000: 3.40469503403\n",
    "#1000000: 33.022755146"
   ]
  },
  {
   "cell_type": "code",
   "execution_count": 102,
   "metadata": {
    "collapsed": false
   },
   "outputs": [
    {
     "name": "stdout",
     "output_type": "stream",
     "text": [
      "set([(2049, 1265)])\n",
      "set([(2587, 3462)])\n",
      "set([(4597, 3053)])\n",
      "set([(3170, 3043)])\n",
      "set([(1173, 2452)])\n",
      "set([(1787, 4895), (3902, 2583)])\n",
      "set([(2451, 4895)])\n",
      "set([(4375, 2998), (2120, 704)])\n",
      "set([(4830, 4303), (4871, 3050), (3868, 1544)])\n",
      "set([(1520, 3043), (3392, 666), (3462, 992)])\n",
      "\n",
      "\n",
      "set([(2136, 4077), (4077, 4050), (1254, 4077)])\n",
      "set([(4065, 4077), (2264, 4077), (4077, 4003)])\n",
      "set([(1634, 4077), (4077, 2336)])\n",
      "set([(4077, 2730), (3491, 4077)])\n",
      "set([(4077, 1359), (2686, 4077)])\n",
      "set([(4077, 1740)])\n",
      "set([(4077, 2766)])\n",
      "set([(4077, 4431)])\n",
      "set([(4609, 4077)])\n",
      "set([(2112, 4077)])\n"
     ]
    }
   ],
   "source": [
    "keys = sorted(num_diff_pix.keys())\n",
    "\n",
    "# Top 10 (fewest pixels nonzero)\n",
    "for x in keys[:10]:\n",
    "    print num_diff_pix[x]\n",
    "    \n",
    "print\n",
    "print\n",
    "    \n",
    "# Bottom 10 (most pixels nonzero)\n",
    "for x in keys[-10:]:\n",
    "    print num_diff_pix[x]"
   ]
  },
  {
   "cell_type": "code",
   "execution_count": 107,
   "metadata": {
    "collapsed": false
   },
   "outputs": [
    {
     "name": "stdout",
     "output_type": "stream",
     "text": [
      "Images that have very few pixels different\n"
     ]
    },
    {
     "data": {
      "image/png": "[encoded data removed]",
      "text/plain": [
       "<matplotlib.figure.Figure at 0x7fb51e865cd0>"
      ]
     },
     "metadata": {},
     "output_type": "display_data"
    },
    {
     "data": {
      "image/png": "[encoded data removed]",
      "text/plain": [
       "<matplotlib.figure.Figure at 0x7fb5315c6dd0>"
      ]
     },
     "metadata": {},
     "output_type": "display_data"
    },
    {
     "data": {
      "image/png": "[encoded data removed]",
      "text/plain": [
       "<matplotlib.figure.Figure at 0x7fb537b126d0>"
      ]
     },
     "metadata": {},
     "output_type": "display_data"
    },
    {
     "data": {
      "image/png": "[encoded data removed]",
      "text/plain": [
       "<matplotlib.figure.Figure at 0x7fb53639a850>"
      ]
     },
     "metadata": {},
     "output_type": "display_data"
    },
    {
     "data": {
      "image/png": "[encoded data removed]",
      "text/plain": [
       "<matplotlib.figure.Figure at 0x7fb53166f790>"
      ]
     },
     "metadata": {},
     "output_type": "display_data"
    },
    {
     "name": "stdout",
     "output_type": "stream",
     "text": [
      "\n",
      "\n",
      "Images that have a lot of pixels different\n"
     ]
    },
    {
     "data": {
      "image/png": "[encoded data removed]",
      "text/plain": [
       "<matplotlib.figure.Figure at 0x7fb535efd290>"
      ]
     },
     "metadata": {},
     "output_type": "display_data"
    },
    {
     "data": {
      "image/png": "[encoded data removed]",
      "text/plain": [
       "<matplotlib.figure.Figure at 0x7fb53154ef10>"
      ]
     },
     "metadata": {},
     "output_type": "display_data"
    },
    {
     "data": {
      "image/png": "[encoded data removed]",
      "text/plain": [
       "<matplotlib.figure.Figure at 0x7fb5362d7b50>"
      ]
     },
     "metadata": {},
     "output_type": "display_data"
    },
    {
     "data": {
      "image/png": "[encoded data removed]",
      "text/plain": [
       "<matplotlib.figure.Figure at 0x7fb535ef7550>"
      ]
     },
     "metadata": {},
     "output_type": "display_data"
    },
    {
     "data": {
      "image/png": "[encoded data removed]",
      "text/plain": [
       "<matplotlib.figure.Figure at 0x7fb537c6c8d0>"
      ]
     },
     "metadata": {},
     "output_type": "display_data"
    }
   ],
   "source": [
    "print \"Images that have very few pixels different\"\n",
    "\n",
    "for x in keys[:5]:\n",
    "    for i1,i2 in num_diff_pix[x]:\n",
    "        x1 = T[0][i1]\n",
    "        x2 = T[0][i2]\n",
    "        x = x2 - x1\n",
    "        img_x1,img_x2,img_x = unflatten_images([x1,x2,x])\n",
    "        plot_x1_x2_x(img_x1,img_x2,img_x)\n",
    "    \n",
    "print\n",
    "print\n",
    "    \n",
    "print \"Images that have a lot of pixels different\"\n",
    "\n",
    "for x in keys[-5:]:\n",
    "    for i1,i2 in num_diff_pix[x]:\n",
    "        x1 = T[0][i1]\n",
    "        x2 = T[0][i2]\n",
    "        x = x2 - x1\n",
    "        img_x1,img_x2,img_x = unflatten_images([x1,x2,x])\n",
    "        plot_x1_x2_x(img_x1,img_x2,img_x)"
   ]
  },
  {
   "cell_type": "code",
   "execution_count": 111,
   "metadata": {
    "collapsed": false
   },
   "outputs": [
    {
     "name": "stdout",
     "output_type": "stream",
     "text": [
      "digit:  0 processed. num_images added so far: 147222\n",
      "digit:  1 processed. num_images added so far: 3327849\n",
      "digit:  2 processed. num_images added so far: 3713611\n",
      "digit:  3 processed. num_images added so far: 4147466\n",
      "digit:  4 processed. num_images added so far: 5052296\n",
      "digit:  5 processed. num_images added so far: 6143866\n",
      "digit:  6 processed. num_images added so far: 7012536\n",
      "digit:  7 processed. num_images added so far: 7729945\n",
      "digit:  8 processed. num_images added so far: 8078837\n",
      "digit:  9 processed. num_images added so far: 9950603\n"
     ]
    }
   ],
   "source": [
    "num_iter = 1000000\n",
    "num_diff_pix = {}\n",
    "total_num_img = 0\n",
    "for digit in range(10):\n",
    "    num_diff_pix[digit] = generate_candidate_pairs(digit,num_iter)\n",
    "    keylist = sorted(num_diff_pix[digit].keys())\n",
    "    total_keys = len(keylist)\n",
    "    for k in keylist[:int(0.2*total_keys)]:\n",
    "        for i1,i2 in num_diff_pix[digit][k]:\n",
    "            x1 = T[digit][i1]\n",
    "            x2 = T[digit][i2]\n",
    "            x = x2 - x1\n",
    "            S = set(np.nonzero(x)[0])\n",
    "            total_num_img += len(S)\n",
    "    print \"digit: \",digit,\"processed. num_images added so far:\",total_num_img"
   ]
  },
  {
   "cell_type": "code",
   "execution_count": 113,
   "metadata": {
    "collapsed": false
   },
   "outputs": [
    {
     "name": "stdout",
     "output_type": "stream",
     "text": [
      "for digit 0 total number of pairs: 26\n",
      "for digit 1 total number of pairs: 61\n",
      "for digit 2 total number of pairs: 21\n",
      "for digit 3 total number of pairs: 23\n",
      "for digit 4 total number of pairs: 21\n",
      "for digit 5 total number of pairs: 40\n",
      "for digit 6 total number of pairs: 26\n",
      "for digit 7 total number of pairs: 21\n",
      "for digit 8 total number of pairs: 23\n",
      "for digit 9 total number of pairs: 31\n"
     ]
    }
   ],
   "source": [
    "num_iter = 1000000\n",
    "num_diff_pix = {}\n",
    "total_num_img = 0\n",
    "for digit in range(10):\n",
    "    total_num_pairs = 0\n",
    "    num_diff_pix[digit] = generate_candidate_pairs(digit,num_iter)\n",
    "    keylist = sorted(num_diff_pix[digit].keys())\n",
    "    total_keys = len(keylist)\n",
    "    y_imgs = []\n",
    "    for k in keylist[:int(0.05*total_keys)]:\n",
    "        total_num_pairs += len(num_diff_pix[digit][k])\n",
    "    print \"for digit\",digit,\"total number of pairs:\",total_num_pairs\n",
    "    '''\n",
    "        for i1,i2 in num_diff_pix[digit][k]:\n",
    "            x1 = T[digit][i1]\n",
    "            x2 = T[digit][i2]\n",
    "            y_imgs.extend(get_imgs(x1,x2))\n",
    "    pickle.dump(y_imgs,'newdata/')\n",
    "    '''"
   ]
  },
  {
   "cell_type": "code",
   "execution_count": 117,
   "metadata": {
    "collapsed": false
   },
   "outputs": [],
   "source": [
    "pickle.dump(num_diff_pix,open('newdata/num_diff_pix.pkl','w'))"
   ]
  },
  {
   "cell_type": "code",
   "execution_count": 139,
   "metadata": {
    "collapsed": false
   },
   "outputs": [],
   "source": [
    "\n",
    "filename=\"../data/mnist.pkl.gz\"\n",
    "f = gzip.open(filename, 'rb')\n",
    "training_data, validation_data, test_data = cPickle.load(f)"
   ]
  },
  {
   "cell_type": "code",
   "execution_count": 10,
   "metadata": {
    "collapsed": true
   },
   "outputs": [],
   "source": [
    "def save(object, filename, bin = 1):\n",
    "    \"\"\"Saves a compressed object to disk\n",
    "    \"\"\"\n",
    "    file = gzip.GzipFile(filename, 'wb')\n",
    "    file.write(pickle.dumps(object, bin))\n",
    "    file.close()"
   ]
  },
  {
   "cell_type": "code",
   "execution_count": 15,
   "metadata": {
    "collapsed": true
   },
   "outputs": [],
   "source": [
    "def get_imgs(x1,x2):\n",
    "    \n",
    "    x = x2 - x1\n",
    "    S = set(np.nonzero(x)[0])\n",
    "    \n",
    "    y = [0]*len(S)\n",
    "    y[0] = x1\n",
    "\n",
    "    num_S = len(S)\n",
    "    for i in range(1,num_S):\n",
    "        j = select_random_j(S)\n",
    "        S.remove(j)\n",
    "        y[i] = y[i-1] + jx(j,x)\n",
    "        \n",
    "    return y[1:-1]"
   ]
  },
  {
   "cell_type": "code",
   "execution_count": 15,
   "metadata": {
    "collapsed": false
   },
   "outputs": [
    {
     "name": "stdout",
     "output_type": "stream",
     "text": [
      "23601\n",
      "23601\n",
      "58.2416651249\n"
     ]
    }
   ],
   "source": [
    "# @ANKIT:\n",
    "# This code runs in about 60 seconds.\n",
    "# Quite fast. Strangely.\n",
    "# It generates about 20k image arrays.\n",
    "\n",
    "start = time.time()\n",
    "\n",
    "training_imgs = []\n",
    "training_labels = []\n",
    "\n",
    "num_diff_pix = pickle.load(open('newdata/num_diff_pix.pkl','r'))\n",
    "for digit in range(10):\n",
    "    keylist = sorted(num_diff_pix[digit].keys())\n",
    "    total_keys = len(keylist)\n",
    "    newimgs = []\n",
    "    labels = []\n",
    "    #print total_keys\n",
    "    for k in keylist[:int(0.05*total_keys)]:\n",
    "        for i1,i2 in num_diff_pix[digit][k]:\n",
    "            x1 = T[digit][i1]\n",
    "            x2 = T[digit][i2]\n",
    "            N = get_imgs(x1,x2)\n",
    "            newimgs.extend(N)\n",
    "            labels.extend([digit]*len(N))\n",
    "            #print len(N)\n",
    "    training_imgs.extend(newimgs)\n",
    "    training_labels.extend(labels)\n",
    "\n",
    "print len(training_imgs)\n",
    "print len(training_labels)\n",
    "\n",
    "#This thing contains over 20K image arrays and labels and comes to under 1 MB when zipped...\n",
    "save((np.array(training_imgs),np.array(training_labels)),'newdata/mnist-interpolated-smooth-training-data-numpyd.pkl.gz')\n",
    "\n",
    "end = time.time()\n",
    "print (end - start)"
   ]
  },
  {
   "cell_type": "code",
   "execution_count": 16,
   "metadata": {
    "collapsed": false
   },
   "outputs": [
    {
     "name": "stdout",
     "output_type": "stream",
     "text": [
      "6644\n",
      "6644\n",
      "processed digit 0\n",
      "20997\n",
      "20997\n",
      "processed digit 1\n",
      "8057\n",
      "8057\n",
      "processed digit 2\n",
      "12809\n",
      "12809\n",
      "processed digit 3\n",
      "13632\n",
      "13632\n",
      "processed digit 4\n",
      "36082\n",
      "36082\n",
      "processed digit 5\n",
      "14971\n",
      "14971\n",
      "processed digit 6\n",
      "8421\n",
      "8421\n",
      "processed digit 7\n",
      "7738\n",
      "7738\n",
      "processed digit 8\n",
      "23623\n",
      "23623\n",
      "processed digit 9\n",
      "64.0750470161\n"
     ]
    }
   ],
   "source": [
    "# @ANKIT:\n",
    "# This code runs in about 85 seconds.\n",
    "# It generates many, many image arrays (sum up the output to see how many)\n",
    "# I had to split the files to avoid RAM overflow\n",
    "\n",
    "start = time.time()\n",
    "\n",
    "training_imgs = []\n",
    "training_labels = []\n",
    "\n",
    "num_diff_pix = pickle.load(open('newdata/num_diff_pix.pkl','r'))\n",
    "for digit in range(10):\n",
    "    keylist = sorted(num_diff_pix[digit].keys())\n",
    "    total_keys = len(keylist)\n",
    "    newimgs = []\n",
    "    labels = []\n",
    "    #print total_keys\n",
    "    for k in keylist[int(0.05*total_keys):int(0.1*total_keys)]:\n",
    "        for i1,i2 in num_diff_pix[digit][k]:\n",
    "            x1 = T[digit][i1]\n",
    "            x2 = T[digit][i2]\n",
    "            N = get_imgs(x1,x2)\n",
    "            newimgs.extend(N)\n",
    "            labels.extend([digit]*len(N))\n",
    "            #print len(N)\n",
    "    #training_imgs.extend(newimgs)\n",
    "    #training_labels.extend(labels)\n",
    "    print len(newimgs)\n",
    "    print len(labels)\n",
    "    #save((newimgs,labels),'newdata/mnist-interpolated-smooth-training-data-'+str(digit)+'-2.pkl.gz')\n",
    "    save((np.array(newimgs),np.array(labels)),'newdata/mnist-interpolated-smooth-training-data'+str(digit)+'-numpyd-2.pkl.gz')\n",
    "    print \"processed digit\",digit\n",
    "\n",
    "end = time.time()\n",
    "print (end - start)"
   ]
  },
  {
   "cell_type": "code",
   "execution_count": 26,
   "metadata": {
    "collapsed": false
   },
   "outputs": [],
   "source": [
    "f = gzip.open('newdata/mnist-interpolated-smooth-training-data-numpyd.pkl.gz', 'rb')\n",
    "trdata1 = pickle.load(f)\n",
    "f.close()\n",
    "#print trdata1[0].shape\n",
    "f = gzip.open('../data/mnist.pkl.gz')\n",
    "trdata2,valdata,tedata = pickle.load(f)\n",
    "#print trdata2[0].shape\n",
    "f.close()\n",
    "trdata_imgs = np.vstack((trdata1[0],trdata2[0]))\n",
    "trdata_labs = np.concatenate((trdata1[1],trdata2[1]))\n",
    "trinity = (trdata_imgs,trdata_labs),valdata,tedata\n",
    "save(trinity,'../data/mnist2.pkl.gz')"
   ]
  },
  {
   "cell_type": "code",
   "execution_count": 11,
   "metadata": {
    "collapsed": true
   },
   "outputs": [
    {
     "data": {
      "image/png": "[encoded data removed]",
      "text/plain": [
       "<matplotlib.figure.Figure at 0x7fe2de322b50>"
      ]
     },
     "metadata": {},
     "output_type": "display_data"
    },
    {
     "data": {
      "image/png": "[encoded data removed]",
      "text/plain": [
       "<matplotlib.figure.Figure at 0x7fe2de21b210>"
      ]
     },
     "metadata": {},
     "output_type": "display_data"
    },
    {
     "data": {
      "image/png": "[encoded data removed]",
      "text/plain": [
       "<matplotlib.figure.Figure at 0x7fe2de1db090>"
      ]
     },
     "metadata": {},
     "output_type": "display_data"
    },
    {
     "data": {
      "image/png": "[encoded data removed]",
      "text/plain": [
       "<matplotlib.figure.Figure at 0x7fe2de1a7ed0>"
      ]
     },
     "metadata": {},
     "output_type": "display_data"
    },
    {
     "data": {
      "image/png": "[encoded data removed]",
      "text/plain": [
       "<matplotlib.figure.Figure at 0x7fe2de2d2750>"
      ]
     },
     "metadata": {},
     "output_type": "display_data"
    },
    {
     "data": {
      "image/png": "[encoded data removed]",
      "text/plain": [
       "<matplotlib.figure.Figure at 0x7fe2de347e50>"
      ]
     },
     "metadata": {},
     "output_type": "display_data"
    },
    {
     "data": {
      "image/png": "[encoded data removed]",
      "text/plain": [
       "<matplotlib.figure.Figure at 0x7fe2e1bfa050>"
      ]
     },
     "metadata": {},
     "output_type": "display_data"
    },
    {
     "data": {
      "image/png": "[encoded data removed]",
      "text/plain": [
       "<matplotlib.figure.Figure at 0x7fe2e1d17ed0>"
      ]
     },
     "metadata": {},
     "output_type": "display_data"
    },
    {
     "data": {
      "image/png": "[encoded data removed]",
      "text/plain": [
       "<matplotlib.figure.Figure at 0x7fe2e1e3a290>"
      ]
     },
     "metadata": {},
     "output_type": "display_data"
    },
    {
     "data": {
      "image/png": "[encoded data removed]",
      "text/plain": [
       "<matplotlib.figure.Figure at 0x7fe2de2f0350>"
      ]
     },
     "metadata": {},
     "output_type": "display_data"
    },
    {
     "data": {
      "image/png": "[encoded data removed]",
      "text/plain": [
       "<matplotlib.figure.Figure at 0x7fe2e1c9f5d0>"
      ]
     },
     "metadata": {},
     "output_type": "display_data"
    },
    {
     "data": {
      "image/png": "[encoded data removed]",
      "text/plain": [
       "<matplotlib.figure.Figure at 0x7fe2de0e1850>"
      ]
     },
     "metadata": {},
     "output_type": "display_data"
    },
    {
     "data": {
      "image/png": "[encoded data removed]",
      "text/plain": [
       "<matplotlib.figure.Figure at 0x7fe2de05cad0>"
      ]
     },
     "metadata": {},
     "output_type": "display_data"
    },
    {
     "data": {
      "image/png": "[encoded data removed]",
      "text/plain": [
       "<matplotlib.figure.Figure at 0x7fe2de031ad0>"
      ]
     },
     "metadata": {},
     "output_type": "display_data"
    },
    {
     "data": {
      "image/png": "[encoded data removed]",
      "text/plain": [
       "<matplotlib.figure.Figure at 0x7fe2ddf75090>"
      ]
     },
     "metadata": {},
     "output_type": "display_data"
    },
    {
     "data": {
      "image/png": "[encoded data removed]",
      "text/plain": [
       "<matplotlib.figure.Figure at 0x7fe2ddf3ec50>"
      ]
     },
     "metadata": {},
     "output_type": "display_data"
    },
    {
     "data": {
      "image/png": "[encoded data removed]",
      "text/plain": [
       "<matplotlib.figure.Figure at 0x7fe2de241350>"
      ]
     },
     "metadata": {},
     "output_type": "display_data"
    },
    {
     "data": {
      "image/png": "[encoded data removed]",
      "text/plain": [
       "<matplotlib.figure.Figure at 0x7fe2de335990>"
      ]
     },
     "metadata": {},
     "output_type": "display_data"
    },
    {
     "data": {
      "image/png": "[encoded data removed]",
      "text/plain": [
       "<matplotlib.figure.Figure at 0x7fe2de2f88d0>"
      ]
     },
     "metadata": {},
     "output_type": "display_data"
    },
    {
     "data": {
      "image/png": "[encoded data removed]",
      "text/plain": [
       "<matplotlib.figure.Figure at 0x7fe2e1c0df90>"
      ]
     },
     "metadata": {},
     "output_type": "display_data"
    },
    {
     "data": {
      "image/png": "[encoded data removed]",
      "text/plain": [
       "<matplotlib.figure.Figure at 0x7fe2de12e550>"
      ]
     },
     "metadata": {},
     "output_type": "display_data"
    },
    {
     "data": {
      "image/png": "[encoded data removed]",
      "text/plain": [
       "<matplotlib.figure.Figure at 0x7fe2ddff8b10>"
      ]
     },
     "metadata": {},
     "output_type": "display_data"
    },
    {
     "data": {
      "image/png": "[encoded data removed]",
      "text/plain": [
       "<matplotlib.figure.Figure at 0x7fe2de296810>"
      ]
     },
     "metadata": {},
     "output_type": "display_data"
    },
    {
     "data": {
      "image/png": "[encoded data removed]",
      "text/plain": [
       "<matplotlib.figure.Figure at 0x7fe2e1de8a90>"
      ]
     },
     "metadata": {},
     "output_type": "display_data"
    },
    {
     "data": {
      "image/png": "[encoded data removed]",
      "text/plain": [
       "<matplotlib.figure.Figure at 0x7fe2ddf13f10>"
      ]
     },
     "metadata": {},
     "output_type": "display_data"
    },
    {
     "data": {
      "image/png": "[encoded data removed]",
      "text/plain": [
       "<matplotlib.figure.Figure at 0x7fe2e1cce050>"
      ]
     },
     "metadata": {},
     "output_type": "display_data"
    },
    {
     "data": {
      "image/png": "[encoded data removed]",
      "text/plain": [
       "<matplotlib.figure.Figure at 0x7fe2de223390>"
      ]
     },
     "metadata": {},
     "output_type": "display_data"
    },
    {
     "data": {
      "image/png": "[encoded data removed]",
      "text/plain": [
       "<matplotlib.figure.Figure at 0x7fe2de314950>"
      ]
     },
     "metadata": {},
     "output_type": "display_data"
    },
    {
     "data": {
      "image/png": "[encoded data removed]",
      "text/plain": [
       "<matplotlib.figure.Figure at 0x7fe2de2db590>"
      ]
     },
     "metadata": {},
     "output_type": "display_data"
    },
    {
     "data": {
      "image/png": "[encoded data removed]",
      "text/plain": [
       "<matplotlib.figure.Figure at 0x7fe2de396bd0>"
      ]
     },
     "metadata": {},
     "output_type": "display_data"
    },
    {
     "data": {
      "image/png": "[encoded data removed]",
      "text/plain": [
       "<matplotlib.figure.Figure at 0x7fe2e1b9add0>"
      ]
     },
     "metadata": {},
     "output_type": "display_data"
    },
    {
     "data": {
      "image/png": "[encoded data removed]",
      "text/plain": [
       "<matplotlib.figure.Figure at 0x7fe2e2003850>"
      ]
     },
     "metadata": {},
     "output_type": "display_data"
    },
    {
     "data": {
      "image/png": "[encoded data removed]",
      "text/plain": [
       "<matplotlib.figure.Figure at 0x7fe2de031190>"
      ]
     },
     "metadata": {},
     "output_type": "display_data"
    },
    {
     "data": {
      "image/png": "[encoded data removed]",
      "text/plain": [
       "<matplotlib.figure.Figure at 0x7fe2ddf64810>"
      ]
     },
     "metadata": {},
     "output_type": "display_data"
    },
    {
     "data": {
      "image/png": "[encoded data removed]",
      "text/plain": [
       "<matplotlib.figure.Figure at 0x7fe2de19da90>"
      ]
     },
     "metadata": {},
     "output_type": "display_data"
    },
    {
     "data": {
      "image/png": "[encoded data removed]",
      "text/plain": [
       "<matplotlib.figure.Figure at 0x7fe2e1df51d0>"
      ]
     },
     "metadata": {},
     "output_type": "display_data"
    },
    {
     "data": {
      "image/png": "[encoded data removed]",
      "text/plain": [
       "<matplotlib.figure.Figure at 0x7fe2de0e4050>"
      ]
     },
     "metadata": {},
     "output_type": "display_data"
    },
    {
     "data": {
      "image/png": "[encoded data removed]",
      "text/plain": [
       "<matplotlib.figure.Figure at 0x7fe2e1e0a050>"
      ]
     },
     "metadata": {},
     "output_type": "display_data"
    },
    {
     "data": {
      "image/png": "[encoded data removed]",
      "text/plain": [
       "<matplotlib.figure.Figure at 0x7fe2ddf3e2d0>"
      ]
     },
     "metadata": {},
     "output_type": "display_data"
    },
    {
     "data": {
      "image/png": "[encoded data removed]",
      "text/plain": [
       "<matplotlib.figure.Figure at 0x7fe2ddfbabd0>"
      ]
     },
     "metadata": {},
     "output_type": "display_data"
    },
    {
     "data": {
      "image/png": "[encoded data removed]",
      "text/plain": [
       "<matplotlib.figure.Figure at 0x7fe2e1ddeb90>"
      ]
     },
     "metadata": {},
     "output_type": "display_data"
    },
    {
     "data": {
      "image/png": "[encoded data removed]",
      "text/plain": [
       "<matplotlib.figure.Figure at 0x7fe2de37b2d0>"
      ]
     },
     "metadata": {},
     "output_type": "display_data"
    },
    {
     "data": {
      "image/png": "[encoded data removed]",
      "text/plain": [
       "<matplotlib.figure.Figure at 0x7fe2e1bf1f10>"
      ]
     },
     "metadata": {},
     "output_type": "display_data"
    },
    {
     "data": {
      "image/png": "[encoded data removed]",
      "text/plain": [
       "<matplotlib.figure.Figure at 0x7fe2e1e16090>"
      ]
     },
     "metadata": {},
     "output_type": "display_data"
    },
    {
     "data": {
      "image/png": "[encoded data removed]",
      "text/plain": [
       "<matplotlib.figure.Figure at 0x7fe2e1c6a810>"
      ]
     },
     "metadata": {},
     "output_type": "display_data"
    },
    {
     "data": {
      "image/png": "[encoded data removed]",
      "text/plain": [
       "<matplotlib.figure.Figure at 0x7fe2de2d1a90>"
      ]
     },
     "metadata": {},
     "output_type": "display_data"
    },
    {
     "data": {
      "image/png": "[encoded data removed]",
      "text/plain": [
       "<matplotlib.figure.Figure at 0x7fe2de0461d0>"
      ]
     },
     "metadata": {},
     "output_type": "display_data"
    },
    {
     "data": {
      "image/png": "[encoded data removed]",
      "text/plain": [
       "<matplotlib.figure.Figure at 0x7fe2ddf24ad0>"
      ]
     },
     "metadata": {},
     "output_type": "display_data"
    },
    {
     "data": {
      "image/png": "[encoded data removed]",
      "text/plain": [
       "<matplotlib.figure.Figure at 0x7fe2de156890>"
      ]
     },
     "metadata": {},
     "output_type": "display_data"
    },
    {
     "data": {
      "image/png": "[encoded data removed]",
      "text/plain": [
       "<matplotlib.figure.Figure at 0x7fe2de08bad0>"
      ]
     },
     "metadata": {},
     "output_type": "display_data"
    },
    {
     "data": {
      "image/png": "[encoded data removed]",
      "text/plain": [
       "<matplotlib.figure.Figure at 0x7fe318e16490>"
      ]
     },
     "metadata": {},
     "output_type": "display_data"
    },
    {
     "data": {
      "image/png": "[encoded data removed]",
      "text/plain": [
       "<matplotlib.figure.Figure at 0x7fe2de396c90>"
      ]
     },
     "metadata": {},
     "output_type": "display_data"
    },
    {
     "data": {
      "image/png": "[encoded data removed]",
      "text/plain": [
       "<matplotlib.figure.Figure at 0x7fe2e1e55990>"
      ]
     },
     "metadata": {},
     "output_type": "display_data"
    },
    {
     "data": {
      "image/png": "[encoded data removed]",
      "text/plain": [
       "<matplotlib.figure.Figure at 0x7fe2e1cfdc90>"
      ]
     },
     "metadata": {},
     "output_type": "display_data"
    },
    {
     "data": {
      "image/png": "[encoded data removed]",
      "text/plain": [
       "<matplotlib.figure.Figure at 0x7fe2de1c11d0>"
      ]
     },
     "metadata": {},
     "output_type": "display_data"
    },
    {
     "data": {
      "image/png": "[encoded data removed]",
      "text/plain": [
       "<matplotlib.figure.Figure at 0x7fe2de26c7d0>"
      ]
     },
     "metadata": {},
     "output_type": "display_data"
    },
    {
     "data": {
      "image/png": "[encoded data removed]",
      "text/plain": [
       "<matplotlib.figure.Figure at 0x7fe2de362a50>"
      ]
     },
     "metadata": {},
     "output_type": "display_data"
    },
    {
     "data": {
      "image/png": "[encoded data removed]",
      "text/plain": [
       "<matplotlib.figure.Figure at 0x7fe2de1ef190>"
      ]
     },
     "metadata": {},
     "output_type": "display_data"
    },
    {
     "data": {
      "image/png": "[encoded data removed]",
      "text/plain": [
       "<matplotlib.figure.Figure at 0x7fe2de219050>"
      ]
     },
     "metadata": {},
     "output_type": "display_data"
    },
    {
     "data": {
      "image/png": "[encoded data removed]",
      "text/plain": [
       "<matplotlib.figure.Figure at 0x7fe2de0e1790>"
      ]
     },
     "metadata": {},
     "output_type": "display_data"
    },
    {
     "data": {
      "image/png": "[encoded data removed]",
      "text/plain": [
       "<matplotlib.figure.Figure at 0x7fe2ddf09ad0>"
      ]
     },
     "metadata": {},
     "output_type": "display_data"
    },
    {
     "data": {
      "image/png": "[encoded data removed]",
      "text/plain": [
       "<matplotlib.figure.Figure at 0x7fe2de14c610>"
      ]
     },
     "metadata": {},
     "output_type": "display_data"
    },
    {
     "data": {
      "image/png": "[encoded data removed]",
      "text/plain": [
       "<matplotlib.figure.Figure at 0x7fe2de018810>"
      ]
     },
     "metadata": {},
     "output_type": "display_data"
    },
    {
     "data": {
      "image/png": "[encoded data removed]",
      "text/plain": [
       "<matplotlib.figure.Figure at 0x7fe2e1c9af90>"
      ]
     },
     "metadata": {},
     "output_type": "display_data"
    },
    {
     "data": {
      "image/png": "[encoded data removed]",
      "text/plain": [
       "<matplotlib.figure.Figure at 0x7fe2de33a150>"
      ]
     },
     "metadata": {},
     "output_type": "display_data"
    },
    {
     "data": {
      "image/png": "[encoded data removed]",
      "text/plain": [
       "<matplotlib.figure.Figure at 0x7fe2de2c5610>"
      ]
     },
     "metadata": {},
     "output_type": "display_data"
    },
    {
     "data": {
      "image/png": "[encoded data removed]",
      "text/plain": [
       "<matplotlib.figure.Figure at 0x7fe2e1c767d0>"
      ]
     },
     "metadata": {},
     "output_type": "display_data"
    },
    {
     "data": {
      "image/png": "[encoded data removed]",
      "text/plain": [
       "<matplotlib.figure.Figure at 0x7fe2de34fe50>"
      ]
     },
     "metadata": {},
     "output_type": "display_data"
    },
    {
     "data": {
      "image/png": "[encoded data removed]",
      "text/plain": [
       "<matplotlib.figure.Figure at 0x7fe2de061ed0>"
      ]
     },
     "metadata": {},
     "output_type": "display_data"
    },
    {
     "data": {
      "image/png": "[encoded data removed]",
      "text/plain": [
       "<matplotlib.figure.Figure at 0x7fe2ddf2bbd0>"
      ]
     },
     "metadata": {},
     "output_type": "display_data"
    },
    {
     "data": {
      "image/png": "[encoded data removed]",
      "text/plain": [
       "<matplotlib.figure.Figure at 0x7fe2e1ca9390>"
      ]
     },
     "metadata": {},
     "output_type": "display_data"
    },
    {
     "data": {
      "image/png": "[encoded data removed]",
      "text/plain": [
       "<matplotlib.figure.Figure at 0x7fe2de061c90>"
      ]
     },
     "metadata": {},
     "output_type": "display_data"
    },
    {
     "data": {
      "image/png": "[encoded data removed]",
      "text/plain": [
       "<matplotlib.figure.Figure at 0x7fe2de3470d0>"
      ]
     },
     "metadata": {},
     "output_type": "display_data"
    },
    {
     "data": {
      "image/png": "[encoded data removed]",
      "text/plain": [
       "<matplotlib.figure.Figure at 0x7fe2de2f8a10>"
      ]
     },
     "metadata": {},
     "output_type": "display_data"
    },
    {
     "data": {
      "image/png": "[encoded data removed]",
      "text/plain": [
       "<matplotlib.figure.Figure at 0x7fe2e1c5e8d0>"
      ]
     },
     "metadata": {},
     "output_type": "display_data"
    },
    {
     "data": {
      "image/png": "[encoded data removed]",
      "text/plain": [
       "<matplotlib.figure.Figure at 0x7fe2e1cfd250>"
      ]
     },
     "metadata": {},
     "output_type": "display_data"
    },
    {
     "data": {
      "image/png": "[encoded data removed]",
      "text/plain": [
       "<matplotlib.figure.Figure at 0x7fe2de1eff50>"
      ]
     },
     "metadata": {},
     "output_type": "display_data"
    },
    {
     "data": {
      "image/png": "[encoded data removed]",
      "text/plain": [
       "<matplotlib.figure.Figure at 0x7fe2e1c71790>"
      ]
     },
     "metadata": {},
     "output_type": "display_data"
    },
    {
     "data": {
      "image/png": "[encoded data removed]",
      "text/plain": [
       "<matplotlib.figure.Figure at 0x7fe2de14ea10>"
      ]
     },
     "metadata": {},
     "output_type": "display_data"
    },
    {
     "data": {
      "image/png": "[encoded data removed]",
      "text/plain": [
       "<matplotlib.figure.Figure at 0x7fe2de0aa690>"
      ]
     },
     "metadata": {},
     "output_type": "display_data"
    },
    {
     "data": {
      "image/png": "[encoded data removed]",
      "text/plain": [
       "<matplotlib.figure.Figure at 0x7fe2ddfa7bd0>"
      ]
     },
     "metadata": {},
     "output_type": "display_data"
    },
    {
     "data": {
      "image/png": "[encoded data removed]",
      "text/plain": [
       "<matplotlib.figure.Figure at 0x7fe2ddefd290>"
      ]
     },
     "metadata": {},
     "output_type": "display_data"
    },
    {
     "data": {
      "image/png": "[encoded data removed]",
      "text/plain": [
       "<matplotlib.figure.Figure at 0x7fe2de0e1c10>"
      ]
     },
     "metadata": {},
     "output_type": "display_data"
    },
    {
     "data": {
      "image/png": "[encoded data removed]",
      "text/plain": [
       "<matplotlib.figure.Figure at 0x7fe2e1ce8ed0>"
      ]
     },
     "metadata": {},
     "output_type": "display_data"
    },
    {
     "data": {
      "image/png": "[encoded data removed]",
      "text/plain": [
       "<matplotlib.figure.Figure at 0x7fe2e1e55110>"
      ]
     },
     "metadata": {},
     "output_type": "display_data"
    },
    {
     "data": {
      "image/png": "[encoded data removed]",
      "text/plain": [
       "<matplotlib.figure.Figure at 0x7fe2de1efed0>"
      ]
     },
     "metadata": {},
     "output_type": "display_data"
    },
    {
     "data": {
      "image/png": "[encoded data removed]",
      "text/plain": [
       "<matplotlib.figure.Figure at 0x7fe2de3473d0>"
      ]
     },
     "metadata": {},
     "output_type": "display_data"
    },
    {
     "data": {
      "image/png": "[encoded data removed]",
      "text/plain": [
       "<matplotlib.figure.Figure at 0x7fe2e1cb3e10>"
      ]
     },
     "metadata": {},
     "output_type": "display_data"
    },
    {
     "data": {
      "image/png": "[encoded data removed]",
      "text/plain": [
       "<matplotlib.figure.Figure at 0x7fe2e1c8f790>"
      ]
     },
     "metadata": {},
     "output_type": "display_data"
    },
    {
     "data": {
      "image/png": "[encoded data removed]",
      "text/plain": [
       "<matplotlib.figure.Figure at 0x7fe2ddf11a10>"
      ]
     },
     "metadata": {},
     "output_type": "display_data"
    },
    {
     "data": {
      "image/png": "[encoded data removed]",
      "text/plain": [
       "<matplotlib.figure.Figure at 0x7fe2de133690>"
      ]
     },
     "metadata": {},
     "output_type": "display_data"
    },
    {
     "data": {
      "image/png": "[encoded data removed]",
      "text/plain": [
       "<matplotlib.figure.Figure at 0x7fe2de00dbd0>"
      ]
     },
     "metadata": {},
     "output_type": "display_data"
    },
    {
     "data": {
      "image/png": "[encoded data removed]",
      "text/plain": [
       "<matplotlib.figure.Figure at 0x7fe2de2c88d0>"
      ]
     },
     "metadata": {},
     "output_type": "display_data"
    },
    {
     "data": {
      "image/png": "[encoded data removed]",
      "text/plain": [
       "<matplotlib.figure.Figure at 0x7fe2de061bd0>"
      ]
     },
     "metadata": {},
     "output_type": "display_data"
    },
    {
     "data": {
      "image/png": "[encoded data removed]",
      "text/plain": [
       "<matplotlib.figure.Figure at 0x7fe2de118950>"
      ]
     },
     "metadata": {},
     "output_type": "display_data"
    },
    {
     "data": {
      "image/png": "[encoded data removed]",
      "text/plain": [
       "<matplotlib.figure.Figure at 0x7fe2e1c9aa90>"
      ]
     },
     "metadata": {},
     "output_type": "display_data"
    },
    {
     "data": {
      "image/png": "[encoded data removed]",
      "text/plain": [
       "<matplotlib.figure.Figure at 0x7fe2de389f10>"
      ]
     },
     "metadata": {},
     "output_type": "display_data"
    },
    {
     "data": {
      "image/png": "[encoded data removed]",
      "text/plain": [
       "<matplotlib.figure.Figure at 0x7fe2de12d590>"
      ]
     },
     "metadata": {},
     "output_type": "display_data"
    },
    {
     "data": {
      "image/png": "[encoded data removed]",
      "text/plain": [
       "<matplotlib.figure.Figure at 0x7fe2ddfa7950>"
      ]
     },
     "metadata": {},
     "output_type": "display_data"
    },
    {
     "data": {
      "image/png": "[encoded data removed]",
      "text/plain": [
       "<matplotlib.figure.Figure at 0x7fe2de264790>"
      ]
     },
     "metadata": {},
     "output_type": "display_data"
    }
   ],
   "source": [
    "# Eyeballing our generated data - a random sample\n",
    "\n",
    "f = gzip.open('newdata/mnist-smooth-paths-training-data.pkl.gz')\n",
    "imgs,labs = cPickle.load(f)\n",
    "f.close()\n",
    "indices = random.sample(xrange(len(imgs)-1),100)\n",
    "for i in indices:\n",
    "    fig = plt.figure()\n",
    "    ax1 = fig.add_subplot(1,1,1)\n",
    "    ax1.matshow(unflatten_images([imgs[i]])[0], cmap = matplotlib.cm.binary)\n",
    "    plt.xticks(np.array([]))\n",
    "    plt.yticks(np.array([]))\n",
    "    plt.title(labs[i])\n",
    "    plt.show()\n",
    "    \n",
    "# Looks good."
   ]
  },
  {
   "cell_type": "code",
   "execution_count": 1,
   "metadata": {
    "collapsed": true
   },
   "outputs": [],
   "source": [
    "import pickle\n",
    "num_diff_pix = pickle.load(open('newdata/num_diff_pix.pkl','r'))"
   ]
  },
  {
   "cell_type": "code",
   "execution_count": 2,
   "metadata": {
    "collapsed": false
   },
   "outputs": [
    {
     "name": "stdout",
     "output_type": "stream",
     "text": [
      "digit: 0\n",
      "290\n",
      "max: 388\n",
      "min: 76\n",
      "[76, 84, 92, 96, 98, 99, 100, 101, 102, 103, 104, 105, 106, 107]\n",
      "\n",
      "digit: 1\n",
      "254\n",
      "max: 294\n",
      "min: 29\n",
      "[29, 30, 31, 32, 33, 34, 35, 36, 37, 38, 39, 40]\n",
      "\n",
      "digit: 2\n",
      "264\n",
      "max: 366\n",
      "min: 82\n",
      "[82, 95, 97, 102, 103, 104, 106, 107, 108, 109, 110, 111, 112]\n",
      "\n",
      "digit: 3\n",
      "272\n",
      "max: 375\n",
      "min: 77\n",
      "[77, 78, 85, 86, 88, 91, 93, 94, 95, 98, 99, 100, 101]\n",
      "\n",
      "digit: 4\n",
      "249\n",
      "max: 346\n",
      "min: 61\n",
      "[61, 80, 81, 83, 84, 86, 88, 89, 93, 94, 96, 97]\n",
      "\n",
      "digit: 5\n",
      "267\n",
      "max: 364\n",
      "min: 90\n",
      "[90, 92, 93, 95, 96, 98, 100, 101, 102, 103, 104, 105, 106]\n",
      "\n",
      "digit: 6\n",
      "283\n",
      "max: 378\n",
      "min: 74\n",
      "[74, 78, 79, 83, 85, 86, 87, 88, 89, 90, 91, 92, 93, 94]\n",
      "\n",
      "digit: 7\n",
      "256\n",
      "max: 324\n",
      "min: 64\n",
      "[64, 66, 67, 68, 70, 71, 72, 73, 74, 75, 77, 78]\n",
      "\n",
      "digit: 8\n",
      "271\n",
      "max: 374\n",
      "min: 95\n",
      "[95, 97, 100, 101, 102, 105, 106, 107, 108, 109, 110, 111, 112]\n",
      "\n",
      "digit: 9\n",
      "265\n",
      "max: 357\n",
      "min: 77\n",
      "[77, 79, 81, 82, 84, 88, 89, 90, 91, 92, 93, 94, 95]\n",
      "\n"
     ]
    }
   ],
   "source": [
    "for digit in range(10):\n",
    "    keys = sorted(num_diff_pix[digit].keys())\n",
    "    print \"digit:\",digit\n",
    "    print len(keys)\n",
    "    print \"max:\",keys[-1]\n",
    "    print \"min:\",keys[0]\n",
    "    print keys[:int(0.05*len(keys))]\n",
    "    print"
   ]
  },
  {
   "cell_type": "code",
   "execution_count": null,
   "metadata": {
    "collapsed": true
   },
   "outputs": [],
   "source": []
  }
 ],
 "metadata": {
  "kernelspec": {
   "display_name": "Python 2",
   "language": "python",
   "name": "python2"
  },
  "language_info": {
   "codemirror_mode": {
    "name": "ipython",
    "version": 2
   },
   "file_extension": ".py",
   "mimetype": "text/x-python",
   "name": "python",
   "nbconvert_exporter": "python",
   "pygments_lexer": "ipython2",
   "version": "2.7.6"
  }
 },
 "nbformat": 4,
 "nbformat_minor": 0
}
