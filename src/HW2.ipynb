{
 "cells": [
  {
   "cell_type": "code",
   "execution_count": 1,
   "metadata": {
    "collapsed": false
   },
   "outputs": [
    {
     "name": "stderr",
     "output_type": "stream",
     "text": [
      "/usr/local/lib/python2.7/dist-packages/matplotlib/font_manager.py:273: UserWarning: Matplotlib is building the font cache using fc-list. This may take a moment.\n",
      "  warnings.warn('Matplotlib is building the font cache using fc-list. This may take a moment.')\n",
      "/usr/local/lib/python2.7/dist-packages/IPython/html.py:14: ShimWarning: The `IPython.html` package has been deprecated. You should import from `notebook` instead. `IPython.html.widgets` has moved to `ipywidgets`.\n",
      "  \"`IPython.html.widgets` has moved to `ipywidgets`.\", ShimWarning)\n"
     ]
    }
   ],
   "source": [
    "import network\n",
    "import mnist_loader\n",
    "import random\n",
    "import numpy as np\n",
    "import seaborn\n",
    "%matplotlib inline\n",
    "import sys\n",
    "sys.path.append(\"../fig/\")\n",
    "import mnist\n",
    "import moviepy.editor as mpy\n",
    "from matplotlib import pyplot as plt\n",
    "from matplotlib import animation"
   ]
  },
  {
   "cell_type": "code",
   "execution_count": 2,
   "metadata": {
    "collapsed": true
   },
   "outputs": [],
   "source": [
    "training_data, validation_data, test_data = mnist_loader.load_data()"
   ]
  },
  {
   "cell_type": "code",
   "execution_count": 3,
   "metadata": {
    "collapsed": false
   },
   "outputs": [
    {
     "data": {
      "text/plain": [
       "tuple"
      ]
     },
     "execution_count": 3,
     "metadata": {},
     "output_type": "execute_result"
    }
   ],
   "source": [
    "type(training_data)"
   ]
  },
  {
   "cell_type": "code",
   "execution_count": 4,
   "metadata": {
    "collapsed": false
   },
   "outputs": [
    {
     "data": {
      "text/plain": [
       "array([5, 0, 4, ..., 8, 4, 8])"
      ]
     },
     "execution_count": 4,
     "metadata": {},
     "output_type": "execute_result"
    }
   ],
   "source": [
    "training_data[1]"
   ]
  },
  {
   "cell_type": "code",
   "execution_count": 5,
   "metadata": {
    "collapsed": false
   },
   "outputs": [
    {
     "name": "stdout",
     "output_type": "stream",
     "text": [
      "50000\n",
      "50000\n",
      "2\n"
     ]
    }
   ],
   "source": [
    "print len(training_data[0])\n",
    "print len(training_data[1])\n",
    "print len(training_data)"
   ]
  },
  {
   "cell_type": "code",
   "execution_count": 6,
   "metadata": {
    "collapsed": true
   },
   "outputs": [],
   "source": [
    "from collections import defaultdict\n",
    "T = defaultdict(list)"
   ]
  },
  {
   "cell_type": "code",
   "execution_count": 7,
   "metadata": {
    "collapsed": false
   },
   "outputs": [],
   "source": [
    "for img,digit in zip(training_data[0],training_data[1]):\n",
    "    T[digit].append(img)"
   ]
  },
  {
   "cell_type": "code",
   "execution_count": 8,
   "metadata": {
    "collapsed": false
   },
   "outputs": [
    {
     "name": "stdout",
     "output_type": "stream",
     "text": [
      "[0, 1, 2, 3, 4, 5, 6, 7, 8, 9]\n"
     ]
    }
   ],
   "source": [
    "# making sure our d is what we expect it to be\n",
    "print T.keys()"
   ]
  },
  {
   "cell_type": "code",
   "execution_count": 9,
   "metadata": {
    "collapsed": false
   },
   "outputs": [
    {
     "name": "stdout",
     "output_type": "stream",
     "text": [
      "4932\n",
      "5678\n",
      "4968\n",
      "5101\n",
      "4859\n",
      "4506\n",
      "4951\n",
      "5175\n",
      "4842\n",
      "4988\n"
     ]
    }
   ],
   "source": [
    "# Checking the cardinality of T_d for each d\n",
    "#for digit in T.keys():\n",
    "for digit in range(0,10):\n",
    "    print len(T[digit])"
   ]
  },
  {
   "cell_type": "code",
   "execution_count": 10,
   "metadata": {
    "collapsed": false
   },
   "outputs": [],
   "source": [
    "# fix d = 0 for now\n",
    "# choose x1 and x2 uniformly at random\n",
    "i1,i2 = random.sample(xrange(len(T[0])-1),2)\n",
    "#print i1,i2\n",
    "x1,x2 = T[0][i1],T[0][i2]\n",
    "#print x1\n",
    "#print x2"
   ]
  },
  {
   "cell_type": "code",
   "execution_count": 11,
   "metadata": {
    "collapsed": false
   },
   "outputs": [],
   "source": [
    "x = x2 - x1\n",
    "#>>> x = numpy.array([0,1,2,3,0,5,6,0,8,9])\n",
    "#>>> numpy.nonzero(x)\n",
    "#(array([1, 2, 3, 5, 6, 8, 9]),)\n",
    "S = set(np.nonzero(x)[0])"
   ]
  },
  {
   "cell_type": "code",
   "execution_count": 12,
   "metadata": {
    "collapsed": true
   },
   "outputs": [],
   "source": [
    "def jx(j,x):\n",
    "    vec = np.zeros_like(x)\n",
    "    vec[j] = x[j] \n",
    "    return vec\n",
    "\n",
    "def select_random_j(S):\n",
    "    return random.choice(tuple(S))"
   ]
  },
  {
   "cell_type": "code",
   "execution_count": 13,
   "metadata": {
    "collapsed": false
   },
   "outputs": [],
   "source": [
    "y = [0]*len(S)\n",
    "y[0] = x1\n",
    "\n",
    "num_S = len(S)\n",
    "for i in range(1,num_S):\n",
    "    j = select_random_j(S)\n",
    "    S.remove(j)\n",
    "    y[i] = y[i-1] + jx(j,x)"
   ]
  },
  {
   "cell_type": "code",
   "execution_count": 14,
   "metadata": {
    "collapsed": true
   },
   "outputs": [],
   "source": [
    "def unflatten_images(flattened_images):\n",
    "    return [np.reshape(f, (-1, 28)) for f in flattened_images]"
   ]
  },
  {
   "cell_type": "code",
   "execution_count": 15,
   "metadata": {
    "collapsed": false
   },
   "outputs": [
    {
     "name": "stdout",
     "output_type": "stream",
     "text": [
      "what x1 looks like:\n"
     ]
    },
    {
     "data": {
      "image/png": "[encoded data removed]",
      "text/plain": [
       "<matplotlib.figure.Figure at 0x7fb537c6c110>"
      ]
     },
     "metadata": {},
     "output_type": "display_data"
    },
    {
     "name": "stdout",
     "output_type": "stream",
     "text": [
      "what x2 looks like:\n"
     ]
    },
    {
     "data": {
      "image/png": "[encoded data removed]",
      "text/plain": [
       "<matplotlib.figure.Figure at 0x7fb537bb8850>"
      ]
     },
     "metadata": {},
     "output_type": "display_data"
    }
   ],
   "source": [
    "img_x1,img_x2 = unflatten_images([x1,x2])\n",
    "print \"what x1 looks like:\"\n",
    "mnist.plot_mnist_digit(img_x1)\n",
    "print \"what x2 looks like:\"\n",
    "mnist.plot_mnist_digit(img_x2)"
   ]
  },
  {
   "cell_type": "code",
   "execution_count": 22,
   "metadata": {
    "collapsed": true
   },
   "outputs": [],
   "source": [
    "from tempfile import NamedTemporaryFile\n",
    "\n",
    "VIDEO_TAG = \"\"\"<video controls>\n",
    " <source src=\"data:video/x-m4v;base64,{0}\" type=\"video/mp4\">\n",
    " Your browser does not support the video tag.\n",
    "</video>\"\"\"\n",
    "\n",
    "def anim_to_html(anim):\n",
    "    if not hasattr(anim, '_encoded_video'):\n",
    "        with NamedTemporaryFile(suffix='.mp4') as f:\n",
    "            anim.save(f.name, fps=20, extra_args=['-vcodec', 'libx264'])\n",
    "            video = open(f.name, \"rb\").read()\n",
    "        anim._encoded_video = video.encode(\"base64\")\n",
    "    \n",
    "    return VIDEO_TAG.format(anim._encoded_video)\n",
    "\n",
    "from IPython.display import HTML\n",
    "\n",
    "def display_animation(anim):\n",
    "    plt.close(anim._fig)\n",
    "    return HTML(anim_to_html(anim))"
   ]
  },
  {
   "cell_type": "code",
   "execution_count": 24,
   "metadata": {
    "collapsed": false
   },
   "outputs": [
    {
     "data": {
      "text/plain": [
       "([], <a list of 0 Text yticklabel objects>)"
      ]
     },
     "execution_count": 24,
     "metadata": {},
     "output_type": "execute_result"
    },
    {
     "data": {
      "image/png": "[encoded data removed]",
      "text/plain": [
       "<matplotlib.figure.Figure at 0x7fb536438d10>"
      ]
     },
     "metadata": {},
     "output_type": "display_data"
    }
   ],
   "source": [
    "y_imgs = unflatten_images(y)\n",
    "\n",
    "def update(i):\n",
    "    #print i #works now! after upgrading to matplotlib 1.5.1\n",
    "    global y_imgs, mat\n",
    "    mat.set_data(y_imgs[i])\n",
    "    return mat \n",
    "\n",
    "def init():\n",
    "    mat.set_data(y_imgs[0])\n",
    "    return mat\n",
    "\n",
    "'''\n",
    "def data_gen():\n",
    "    for i in range(1,len(y_imgs)):\n",
    "        yield y_imgs[i]\n",
    "'''\n",
    "\n",
    "fig, ax = plt.subplots()\n",
    "mat = ax.matshow(y_imgs[0])\n",
    "anim = animation.FuncAnimation(fig=fig, init_func=init, func=update, frames=len(y_imgs), interval=10, blit=False)\n",
    "plt.xticks(np.array([]))\n",
    "plt.yticks(np.array([]))\n",
    "#plt.show()"
   ]
  },
  {
   "cell_type": "code",
   "execution_count": 37,
   "metadata": {
    "collapsed": false
   },
   "outputs": [],
   "source": [
    "def unflatten_images(flattened_images):\n",
    "    return [np.reshape(f, (-1, 28)) for f in flattened_images]\n",
    "\n",
    "def jx(j,x):\n",
    "    vec = np.zeros_like(x)\n",
    "    vec[j] = x[j] \n",
    "    return vec\n",
    "\n",
    "def select_random_j(S):\n",
    "    return random.choice(tuple(S))"
   ]
  },
  {
   "cell_type": "code",
   "execution_count": 43,
   "metadata": {
    "collapsed": false
   },
   "outputs": [],
   "source": [
    "def generate_new_data(d):\n",
    "    i1,i2 = random.sample(xrange(len(T[d])-1),2)\n",
    "    x1,x2 = T[d][i1],T[d][i2]\n",
    "    x = x2 - x1\n",
    "    S = set(np.nonzero(x)[0])\n",
    "\n",
    "    y = [0]*len(S)\n",
    "    y[0] = x1\n",
    "\n",
    "    num_S = len(S)\n",
    "    for i in range(1,num_S):\n",
    "        j = select_random_j(S)\n",
    "        S.remove(j)\n",
    "        y[i] = y[i-1] + jx(j,x)\n",
    "        \n",
    "    img_x1,img_x2,img_x = unflatten_images([x1,x2,x])\n",
    "    print \"what x1 looks like:\"\n",
    "    mnist.plot_mnist_digit(img_x1)\n",
    "    print \"what x2 looks like:\"\n",
    "    mnist.plot_mnist_digit(img_x2)\n",
    "    print \"what x looks like:\"\n",
    "    mnist.plot_mnist_digit(img_x)\n",
    "    \n",
    "    \n",
    "    y_imgs = unflatten_images(y)\n",
    "\n",
    "    def update(i):\n",
    "        global y_imgs, mat\n",
    "        mat.set_data(y_imgs[i])\n",
    "        return mat \n",
    "\n",
    "    def init():\n",
    "        global y_imgs\n",
    "        mat.set_data(y_imgs[0])\n",
    "        return mat\n",
    "        \n",
    "    fig, ax = plt.subplots()\n",
    "    mat = ax.matshow(y_imgs[0])\n",
    "    anim = animation.FuncAnimation(fig=fig, init_func=init, func=update, frames=len(y_imgs), interval=10, blit=False)\n",
    "    plt.xticks(np.array([]))\n",
    "    plt.yticks(np.array([]))\n",
    "\n",
    "    #anim.save('animation-'+str(d)+'.mp4',writer='ffmpeg', fps=20)\n",
    "    anim.save('animation-'+str(d)+'.gif',writer='imagemagick', fps=20)\n",
    "    \n",
    "    return y"
   ]
  },
  {
   "cell_type": "code",
   "execution_count": 44,
   "metadata": {
    "collapsed": false
   },
   "outputs": [
    {
     "name": "stdout",
     "output_type": "stream",
     "text": [
      "what x1 looks like:\n"
     ]
    },
    {
     "data": {
      "image/png": "[encoded data removed]",
      "text/plain": [
       "<matplotlib.figure.Figure at 0x7fb536124310>"
      ]
     },
     "metadata": {},
     "output_type": "display_data"
    },
    {
     "name": "stdout",
     "output_type": "stream",
     "text": [
      "what x2 looks like:\n"
     ]
    },
    {
     "data": {
      "image/png": "[encoded data removed]",
      "text/plain": [
       "<matplotlib.figure.Figure at 0x7fb53603bd10>"
      ]
     },
     "metadata": {},
     "output_type": "display_data"
    },
    {
     "name": "stdout",
     "output_type": "stream",
     "text": [
      "what x looks like:\n"
     ]
    },
    {
     "data": {
      "image/png": "[encoded data removed]",
      "text/plain": [
       "<matplotlib.figure.Figure at 0x7fb535f83b90>"
      ]
     },
     "metadata": {},
     "output_type": "display_data"
    },
    {
     "data": {
      "image/png": "[encoded data removed]",
      "text/plain": [
       "<matplotlib.figure.Figure at 0x7fb5363b5a90>"
      ]
     },
     "metadata": {},
     "output_type": "display_data"
    }
   ],
   "source": [
    "y_0 = generate_new_data(0)"
   ]
  },
  {
   "cell_type": "code",
   "execution_count": 36,
   "metadata": {
    "collapsed": false
   },
   "outputs": [
    {
     "data": {
      "text/plain": [
       "108"
      ]
     },
     "execution_count": 36,
     "metadata": {},
     "output_type": "execute_result"
    }
   ],
   "source": [
    "len(y_1)"
   ]
  },
  {
   "cell_type": "code",
   "execution_count": null,
   "metadata": {
    "collapsed": true
   },
   "outputs": [],
   "source": []
  }
 ],
 "metadata": {
  "kernelspec": {
   "display_name": "Python 2",
   "language": "python",
   "name": "python2"
  },
  "language_info": {
   "codemirror_mode": {
    "name": "ipython",
    "version": 2
   },
   "file_extension": ".py",
   "mimetype": "text/x-python",
   "name": "python",
   "nbconvert_exporter": "python",
   "pygments_lexer": "ipython2",
   "version": "2.7.6"
  }
 },
 "nbformat": 4,
 "nbformat_minor": 0
}
