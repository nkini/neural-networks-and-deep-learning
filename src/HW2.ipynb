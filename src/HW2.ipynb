{
 "cells": [
  {
   "cell_type": "code",
   "execution_count": 13,
   "metadata": {
    "collapsed": false
   },
   "outputs": [],
   "source": [
    "import network\n",
    "import mnist_loader\n",
    "import random\n",
    "import numpy as np\n",
    "import seaborn\n",
    "%matplotlib inline\n",
    "import sys\n",
    "sys.path.append(\"../fig/\")\n",
    "import mnist\n",
    "import moviepy.editor as mpy\n",
    "from matplotlib import pyplot as plt\n",
    "from matplotlib import animation\n",
    "import time\n",
    "import matplotlib\n",
    "import pickle\n",
    "import cPickle\n",
    "import gzip"
   ]
  },
  {
   "cell_type": "code",
   "execution_count": 3,
   "metadata": {
    "collapsed": true
   },
   "outputs": [],
   "source": [
    "training_data, validation_data, test_data = mnist_loader.load_data()"
   ]
  },
  {
   "cell_type": "code",
   "execution_count": 3,
   "metadata": {
    "collapsed": false
   },
   "outputs": [
    {
     "data": {
      "text/plain": [
       "tuple"
      ]
     },
     "execution_count": 3,
     "metadata": {},
     "output_type": "execute_result"
    }
   ],
   "source": [
    "type(training_data)"
   ]
  },
  {
   "cell_type": "code",
   "execution_count": 4,
   "metadata": {
    "collapsed": false
   },
   "outputs": [
    {
     "data": {
      "text/plain": [
       "array([5, 0, 4, ..., 8, 4, 8])"
      ]
     },
     "execution_count": 4,
     "metadata": {},
     "output_type": "execute_result"
    }
   ],
   "source": [
    "training_data[1]"
   ]
  },
  {
   "cell_type": "code",
   "execution_count": 5,
   "metadata": {
    "collapsed": false
   },
   "outputs": [
    {
     "name": "stdout",
     "output_type": "stream",
     "text": [
      "50000\n",
      "50000\n",
      "2\n"
     ]
    }
   ],
   "source": [
    "print len(training_data[0])\n",
    "print len(training_data[1])\n",
    "print len(training_data)"
   ]
  },
  {
   "cell_type": "code",
   "execution_count": 4,
   "metadata": {
    "collapsed": true
   },
   "outputs": [],
   "source": [
    "from collections import defaultdict\n",
    "T = defaultdict(list)"
   ]
  },
  {
   "cell_type": "code",
   "execution_count": 5,
   "metadata": {
    "collapsed": false
   },
   "outputs": [],
   "source": [
    "for img,digit in zip(training_data[0],training_data[1]):\n",
    "    T[digit].append(img)"
   ]
  },
  {
   "cell_type": "code",
   "execution_count": 8,
   "metadata": {
    "collapsed": false
   },
   "outputs": [
    {
     "name": "stdout",
     "output_type": "stream",
     "text": [
      "[0, 1, 2, 3, 4, 5, 6, 7, 8, 9]\n"
     ]
    }
   ],
   "source": [
    "# making sure our d is what we expect it to be\n",
    "print T.keys()"
   ]
  },
  {
   "cell_type": "code",
   "execution_count": 6,
   "metadata": {
    "collapsed": false
   },
   "outputs": [
    {
     "name": "stdout",
     "output_type": "stream",
     "text": [
      "4932\n",
      "5678\n",
      "4968\n",
      "5101\n",
      "4859\n",
      "4506\n",
      "4951\n",
      "5175\n",
      "4842\n",
      "4988\n"
     ]
    }
   ],
   "source": [
    "# Checking the cardinality of T_d for each d\n",
    "#for digit in T.keys():\n",
    "for digit in range(0,10):\n",
    "    print len(T[digit])"
   ]
  },
  {
   "cell_type": "code",
   "execution_count": 10,
   "metadata": {
    "collapsed": false
   },
   "outputs": [],
   "source": [
    "# fix d = 0 for now\n",
    "# choose x1 and x2 uniformly at random\n",
    "i1,i2 = random.sample(xrange(len(T[0])-1),2)\n",
    "#print i1,i2\n",
    "x1,x2 = T[0][i1],T[0][i2]\n",
    "#print x1\n",
    "#print x2"
   ]
  },
  {
   "cell_type": "code",
   "execution_count": 11,
   "metadata": {
    "collapsed": false
   },
   "outputs": [],
   "source": [
    "x = x2 - x1\n",
    "#>>> x = numpy.array([0,1,2,3,0,5,6,0,8,9])\n",
    "#>>> numpy.nonzero(x)\n",
    "#(array([1, 2, 3, 5, 6, 8, 9]),)\n",
    "S = set(np.nonzero(x)[0])"
   ]
  },
  {
   "cell_type": "code",
   "execution_count": 12,
   "metadata": {
    "collapsed": true
   },
   "outputs": [],
   "source": [
    "def jx(j,x):\n",
    "    vec = np.zeros_like(x)\n",
    "    vec[j] = x[j] \n",
    "    return vec\n",
    "\n",
    "def select_random_j(S):\n",
    "    return random.choice(tuple(S))"
   ]
  },
  {
   "cell_type": "code",
   "execution_count": 13,
   "metadata": {
    "collapsed": false
   },
   "outputs": [],
   "source": [
    "y = [0]*len(S)\n",
    "y[0] = x1\n",
    "\n",
    "num_S = len(S)\n",
    "for i in range(1,num_S):\n",
    "    j = select_random_j(S)\n",
    "    S.remove(j)\n",
    "    y[i] = y[i-1] + jx(j,x)"
   ]
  },
  {
   "cell_type": "code",
   "execution_count": 14,
   "metadata": {
    "collapsed": true
   },
   "outputs": [],
   "source": [
    "def unflatten_images(flattened_images):\n",
    "    return [np.reshape(f, (-1, 28)) for f in flattened_images]"
   ]
  },
  {
   "cell_type": "code",
   "execution_count": 15,
   "metadata": {
    "collapsed": false
   },
   "outputs": [
    {
     "name": "stdout",
     "output_type": "stream",
     "text": [
      "what x1 looks like:\n"
     ]
    },
    {
     "data": {
      "image/png": "[encoded data removed]",
      "text/plain": [
       "<matplotlib.figure.Figure at 0x7fb537c6c110>"
      ]
     },
     "metadata": {},
     "output_type": "display_data"
    },
    {
     "name": "stdout",
     "output_type": "stream",
     "text": [
      "what x2 looks like:\n"
     ]
    },
    {
     "data": {
      "image/png": "[encoded data removed]",
      "text/plain": [
       "<matplotlib.figure.Figure at 0x7fb537bb8850>"
      ]
     },
     "metadata": {},
     "output_type": "display_data"
    }
   ],
   "source": [
    "img_x1,img_x2 = unflatten_images([x1,x2])\n",
    "print \"what x1 looks like:\"\n",
    "mnist.plot_mnist_digit(img_x1)\n",
    "print \"what x2 looks like:\"\n",
    "mnist.plot_mnist_digit(img_x2)"
   ]
  },
  {
   "cell_type": "code",
   "execution_count": 70,
   "metadata": {
    "collapsed": true
   },
   "outputs": [],
   "source": [
    "from tempfile import NamedTemporaryFile\n",
    "\n",
    "VIDEO_TAG = \"\"\"<video controls>\n",
    " <source src=\"data:video/x-m4v;base64,{0}\" type=\"video/mp4\">\n",
    " Your browser does not support the video tag.\n",
    "</video>\"\"\"\n",
    "\n",
    "def anim_to_html(anim):\n",
    "    if not hasattr(anim, '_encoded_video'):\n",
    "        with NamedTemporaryFile(suffix='.mp4') as f:\n",
    "            anim.save(f.name, fps=20, extra_args=['-vcodec', 'libx264'])\n",
    "            video = open(f.name, \"rb\").read()\n",
    "        anim._encoded_video = video.encode(\"base64\")\n",
    "    \n",
    "    return VIDEO_TAG.format(anim._encoded_video)\n",
    "\n",
    "from IPython.display import HTML\n",
    "\n",
    "def display_animation(anim):\n",
    "    plt.close(anim._fig)\n",
    "    return HTML(anim_to_html(anim))"
   ]
  },
  {
   "cell_type": "code",
   "execution_count": 24,
   "metadata": {
    "collapsed": false
   },
   "outputs": [
    {
     "data": {
      "text/plain": [
       "([], <a list of 0 Text yticklabel objects>)"
      ]
     },
     "execution_count": 24,
     "metadata": {},
     "output_type": "execute_result"
    },
    {
     "data": {
      "image/png": "[encoded data removed]",
      "text/plain": [
       "<matplotlib.figure.Figure at 0x7fb536438d10>"
      ]
     },
     "metadata": {},
     "output_type": "display_data"
    }
   ],
   "source": [
    "y_imgs = unflatten_images(y)\n",
    "\n",
    "def update(i):\n",
    "    #print i #works now! after upgrading to matplotlib 1.5.1\n",
    "    global y_imgs, mat\n",
    "    mat.set_data(y_imgs[i])\n",
    "    return mat \n",
    "\n",
    "def init():\n",
    "    mat.set_data(y_imgs[0])\n",
    "    return mat\n",
    "\n",
    "'''\n",
    "def data_gen():\n",
    "    for i in range(1,len(y_imgs)):\n",
    "        yield y_imgs[i]\n",
    "'''\n",
    "\n",
    "fig, ax = plt.subplots()\n",
    "mat = ax.matshow(y_imgs[0])\n",
    "anim = animation.FuncAnimation(fig=fig, init_func=init, func=update, frames=len(y_imgs), interval=10, blit=False)\n",
    "plt.xticks(np.array([]))\n",
    "plt.yticks(np.array([]))\n",
    "#plt.show()"
   ]
  },
  {
   "cell_type": "code",
   "execution_count": 11,
   "metadata": {
    "collapsed": false
   },
   "outputs": [],
   "source": [
    "def unflatten_images(flattened_images):\n",
    "    return [np.reshape(f, (-1, 28)) for f in flattened_images]\n",
    "\n",
    "def jx(j,x):\n",
    "    vec = np.zeros_like(x)\n",
    "    vec[j] = x[j] \n",
    "    return vec\n",
    "\n",
    "def select_random_j(S):\n",
    "    return random.choice(tuple(S))\n",
    "\n",
    "def plot_x1_x2_x(x1,x2,x):\n",
    "    fig = plt.figure()\n",
    "    ax1 = fig.add_subplot(1, 3, 1)\n",
    "    ax1.matshow(x1, cmap = matplotlib.cm.binary)\n",
    "    plt.xticks(np.array([]))\n",
    "    plt.yticks(np.array([]))\n",
    "    ax2 = fig.add_subplot(1, 3, 2)\n",
    "    ax2.matshow(x2, cmap = matplotlib.cm.binary)\n",
    "    plt.xticks(np.array([]))\n",
    "    plt.yticks(np.array([]))\n",
    "    ax = fig.add_subplot(1, 3, 3)\n",
    "    ax.matshow(x, cmap = matplotlib.cm.binary)\n",
    "    plt.xticks(np.array([]))\n",
    "    plt.yticks(np.array([]))\n",
    "    plt.show()"
   ]
  },
  {
   "cell_type": "code",
   "execution_count": 74,
   "metadata": {
    "collapsed": false
   },
   "outputs": [],
   "source": [
    "plt.ioff()\n",
    "def generate_new_data(d):\n",
    "    i1,i2 = random.sample(xrange(len(T[d])-1),2)\n",
    "    x1,x2 = T[d][i1],T[d][i2]\n",
    "    x = x2 - x1\n",
    "    S = set(np.nonzero(x)[0])\n",
    "\n",
    "    y = [0]*len(S)\n",
    "    y[0] = x1\n",
    "\n",
    "    num_S = len(S)\n",
    "    for i in range(1,num_S):\n",
    "        j = select_random_j(S)\n",
    "        S.remove(j)\n",
    "        y[i] = y[i-1] + jx(j,x)\n",
    "        \n",
    "    img_x1,img_x2,img_x = unflatten_images([x1,x2,x])\n",
    "    '''\n",
    "    print \"what x1 looks like:\"\n",
    "    mnist.plot_mnist_digit(img_x1)\n",
    "    print \"what x2 looks like:\"\n",
    "    mnist.plot_mnist_digit(img_x2)\n",
    "    print \"what x looks like:\"\n",
    "    mnist.plot_mnist_digit(img_x)\n",
    "    '''\n",
    "    plot_x1_x2_x(img_x1,img_x2,img_x)\n",
    "    \n",
    "    y_imgs = unflatten_images(y)\n",
    "\n",
    "    def update(i):\n",
    "        #global y_imgs, mat\n",
    "        mat.set_data(y_imgs[i])\n",
    "        return mat \n",
    "\n",
    "    def init():\n",
    "        #global y_imgs\n",
    "        mat.set_data(y_imgs[0])\n",
    "        return mat\n",
    "        \n",
    "    fig, ax = plt.subplots()\n",
    "    mat = ax.matshow(y_imgs[0])\n",
    "    anim = animation.FuncAnimation(fig=fig, init_func=init, func=update, frames=len(y_imgs), interval=10, blit=False)\n",
    "    plt.xticks(np.array([]))\n",
    "    plt.yticks(np.array([]))\n",
    "\n",
    "    writer = animation.FFMpegWriter(fps=20)\n",
    "    anim.save('animation-'+str(d)+'.mp4',writer=writer)\n",
    "    #anim.save('animation-'+str(d)+'.gif',writer='imagemagick', fps=20)\n",
    "    #display_animation(anim)\n",
    "    plt.close(fig)\n",
    "    \n",
    "    return y"
   ]
  },
  {
   "cell_type": "code",
   "execution_count": 75,
   "metadata": {
    "collapsed": false
   },
   "outputs": [
    {
     "data": {
      "image/png": "[encoded data removed]",
      "text/plain": [
       "<matplotlib.figure.Figure at 0x7fb5360c5550>"
      ]
     },
     "metadata": {},
     "output_type": "display_data"
    },
    {
     "data": {
      "image/png": "[encoded data removed]",
      "text/plain": [
       "<matplotlib.figure.Figure at 0x7fb5316831d0>"
      ]
     },
     "metadata": {},
     "output_type": "display_data"
    },
    {
     "data": {
      "image/png": "[encoded data removed]",
      "text/plain": [
       "<matplotlib.figure.Figure at 0x7fb537769110>"
      ]
     },
     "metadata": {},
     "output_type": "display_data"
    },
    {
     "data": {
      "image/png": "[encoded data removed]",
      "text/plain": [
       "<matplotlib.figure.Figure at 0x7fb537995d90>"
      ]
     },
     "metadata": {},
     "output_type": "display_data"
    },
    {
     "data": {
      "image/png": "[encoded data removed]",
      "text/plain": [
       "<matplotlib.figure.Figure at 0x7fb536118550>"
      ]
     },
     "metadata": {},
     "output_type": "display_data"
    },
    {
     "data": {
      "image/png": "[encoded data removed]",
      "text/plain": [
       "<matplotlib.figure.Figure at 0x7fb5315ccf10>"
      ]
     },
     "metadata": {},
     "output_type": "display_data"
    },
    {
     "data": {
      "image/png": "[encoded data removed]",
      "text/plain": [
       "<matplotlib.figure.Figure at 0x7fb5317e6650>"
      ]
     },
     "metadata": {},
     "output_type": "display_data"
    },
    {
     "data": {
      "image/png": "[encoded data removed]",
      "text/plain": [
       "<matplotlib.figure.Figure at 0x7fb537496190>"
      ]
     },
     "metadata": {},
     "output_type": "display_data"
    },
    {
     "data": {
      "image/png": "[encoded data removed]",
      "text/plain": [
       "<matplotlib.figure.Figure at 0x7fb531568290>"
      ]
     },
     "metadata": {},
     "output_type": "display_data"
    },
    {
     "data": {
      "image/png": "[encoded data removed]",
      "text/plain": [
       "<matplotlib.figure.Figure at 0x7fb535eac150>"
      ]
     },
     "metadata": {},
     "output_type": "display_data"
    }
   ],
   "source": [
    "y_ = [0]*10\n",
    "for i in range(10):\n",
    "    y_[i] = generate_new_data(i)"
   ]
  },
  {
   "cell_type": "code",
   "execution_count": 108,
   "metadata": {
    "collapsed": false
   },
   "outputs": [],
   "source": [
    "def generate_candidate_pairs(d,num_iter):\n",
    "    num_diff_pix = defaultdict(set)\n",
    "    k = 0\n",
    "    while k < num_iter:\n",
    "        i1,i2 = random.sample(xrange(len(T[d])-1),2)\n",
    "        if i2 < i1:\n",
    "            temp = i1\n",
    "            i1 = i2\n",
    "            i2 = temp\n",
    "        x1,x2 = T[d][i1],T[d][i2]\n",
    "        x = x2 - x1\n",
    "        S = set(np.nonzero(x)[0])\n",
    "        num_diff_pix[len(S)].add((i1,i2))\n",
    "        k+=1\n",
    "    return num_diff_pix"
   ]
  },
  {
   "cell_type": "code",
   "execution_count": 93,
   "metadata": {
    "collapsed": false
   },
   "outputs": [
    {
     "name": "stdout",
     "output_type": "stream",
     "text": [
      "33.022755146\n"
     ]
    }
   ],
   "source": [
    "start = time.time()\n",
    "num_iter = 1000000\n",
    "num_diff_pix = generate_candidate_pairs(0,num_iter)\n",
    "end = time.time()\n",
    "print(end - start)\n",
    "# time taken for various iterations\n",
    "#100:    0.324348926544\n",
    "#1000:   0.0615410804749\n",
    "#10000:  0.353132963181\n",
    "#100000: 3.40469503403\n",
    "#1000000: 33.022755146"
   ]
  },
  {
   "cell_type": "code",
   "execution_count": 102,
   "metadata": {
    "collapsed": false
   },
   "outputs": [
    {
     "name": "stdout",
     "output_type": "stream",
     "text": [
      "set([(2049, 1265)])\n",
      "set([(2587, 3462)])\n",
      "set([(4597, 3053)])\n",
      "set([(3170, 3043)])\n",
      "set([(1173, 2452)])\n",
      "set([(1787, 4895), (3902, 2583)])\n",
      "set([(2451, 4895)])\n",
      "set([(4375, 2998), (2120, 704)])\n",
      "set([(4830, 4303), (4871, 3050), (3868, 1544)])\n",
      "set([(1520, 3043), (3392, 666), (3462, 992)])\n",
      "\n",
      "\n",
      "set([(2136, 4077), (4077, 4050), (1254, 4077)])\n",
      "set([(4065, 4077), (2264, 4077), (4077, 4003)])\n",
      "set([(1634, 4077), (4077, 2336)])\n",
      "set([(4077, 2730), (3491, 4077)])\n",
      "set([(4077, 1359), (2686, 4077)])\n",
      "set([(4077, 1740)])\n",
      "set([(4077, 2766)])\n",
      "set([(4077, 4431)])\n",
      "set([(4609, 4077)])\n",
      "set([(2112, 4077)])\n"
     ]
    }
   ],
   "source": [
    "keys = sorted(num_diff_pix.keys())\n",
    "\n",
    "# Top 10 (fewest pixels nonzero)\n",
    "for x in keys[:10]:\n",
    "    print num_diff_pix[x]\n",
    "    \n",
    "print\n",
    "print\n",
    "    \n",
    "# Bottom 10 (most pixels nonzero)\n",
    "for x in keys[-10:]:\n",
    "    print num_diff_pix[x]"
   ]
  },
  {
   "cell_type": "code",
   "execution_count": 107,
   "metadata": {
    "collapsed": false
   },
   "outputs": [
    {
     "name": "stdout",
     "output_type": "stream",
     "text": [
      "Images that have very few pixels different\n"
     ]
    },
    {
     "data": {
      "image/png": "[encoded data removed]",
      "text/plain": [
       "<matplotlib.figure.Figure at 0x7fb51e865cd0>"
      ]
     },
     "metadata": {},
     "output_type": "display_data"
    },
    {
     "data": {
      "image/png": "[encoded data removed]",
      "text/plain": [
       "<matplotlib.figure.Figure at 0x7fb5315c6dd0>"
      ]
     },
     "metadata": {},
     "output_type": "display_data"
    },
    {
     "data": {
      "image/png": "[encoded data removed]",
      "text/plain": [
       "<matplotlib.figure.Figure at 0x7fb537b126d0>"
      ]
     },
     "metadata": {},
     "output_type": "display_data"
    },
    {
     "data": {
      "image/png": "[encoded data removed]",
      "text/plain": [
       "<matplotlib.figure.Figure at 0x7fb53639a850>"
      ]
     },
     "metadata": {},
     "output_type": "display_data"
    },
    {
     "data": {
      "image/png": "[encoded data removed]",
      "text/plain": [
       "<matplotlib.figure.Figure at 0x7fb53166f790>"
      ]
     },
     "metadata": {},
     "output_type": "display_data"
    },
    {
     "name": "stdout",
     "output_type": "stream",
     "text": [
      "\n",
      "\n",
      "Images that have a lot of pixels different\n"
     ]
    },
    {
     "data": {
      "image/png": "[encoded data removed]",
      "text/plain": [
       "<matplotlib.figure.Figure at 0x7fb535efd290>"
      ]
     },
     "metadata": {},
     "output_type": "display_data"
    },
    {
     "data": {
      "image/png": "[encoded data removed]",
      "text/plain": [
       "<matplotlib.figure.Figure at 0x7fb53154ef10>"
      ]
     },
     "metadata": {},
     "output_type": "display_data"
    },
    {
     "data": {
      "image/png": "[encoded data removed]",
      "text/plain": [
       "<matplotlib.figure.Figure at 0x7fb5362d7b50>"
      ]
     },
     "metadata": {},
     "output_type": "display_data"
    },
    {
     "data": {
      "image/png": "[encoded data removed]",
      "text/plain": [
       "<matplotlib.figure.Figure at 0x7fb535ef7550>"
      ]
     },
     "metadata": {},
     "output_type": "display_data"
    },
    {
     "data": {
      "image/png": "[encoded data removed]",
      "text/plain": [
       "<matplotlib.figure.Figure at 0x7fb537c6c8d0>"
      ]
     },
     "metadata": {},
     "output_type": "display_data"
    }
   ],
   "source": [
    "print \"Images that have very few pixels different\"\n",
    "\n",
    "for x in keys[:5]:\n",
    "    for i1,i2 in num_diff_pix[x]:\n",
    "        x1 = T[0][i1]\n",
    "        x2 = T[0][i2]\n",
    "        x = x2 - x1\n",
    "        img_x1,img_x2,img_x = unflatten_images([x1,x2,x])\n",
    "        plot_x1_x2_x(img_x1,img_x2,img_x)\n",
    "    \n",
    "print\n",
    "print\n",
    "    \n",
    "print \"Images that have a lot of pixels different\"\n",
    "\n",
    "for x in keys[-5:]:\n",
    "    for i1,i2 in num_diff_pix[x]:\n",
    "        x1 = T[0][i1]\n",
    "        x2 = T[0][i2]\n",
    "        x = x2 - x1\n",
    "        img_x1,img_x2,img_x = unflatten_images([x1,x2,x])\n",
    "        plot_x1_x2_x(img_x1,img_x2,img_x)"
   ]
  },
  {
   "cell_type": "code",
   "execution_count": 111,
   "metadata": {
    "collapsed": false
   },
   "outputs": [
    {
     "name": "stdout",
     "output_type": "stream",
     "text": [
      "digit:  0 processed. num_images added so far: 147222\n",
      "digit:  1 processed. num_images added so far: 3327849\n",
      "digit:  2 processed. num_images added so far: 3713611\n",
      "digit:  3 processed. num_images added so far: 4147466\n",
      "digit:  4 processed. num_images added so far: 5052296\n",
      "digit:  5 processed. num_images added so far: 6143866\n",
      "digit:  6 processed. num_images added so far: 7012536\n",
      "digit:  7 processed. num_images added so far: 7729945\n",
      "digit:  8 processed. num_images added so far: 8078837\n",
      "digit:  9 processed. num_images added so far: 9950603\n"
     ]
    }
   ],
   "source": [
    "num_iter = 1000000\n",
    "num_diff_pix = {}\n",
    "total_num_img = 0\n",
    "for digit in range(10):\n",
    "    num_diff_pix[digit] = generate_candidate_pairs(digit,num_iter)\n",
    "    keylist = sorted(num_diff_pix[digit].keys())\n",
    "    total_keys = len(keylist)\n",
    "    for k in keylist[:int(0.2*total_keys)]:\n",
    "        for i1,i2 in num_diff_pix[digit][k]:\n",
    "            x1 = T[digit][i1]\n",
    "            x2 = T[digit][i2]\n",
    "            x = x2 - x1\n",
    "            S = set(np.nonzero(x)[0])\n",
    "            total_num_img += len(S)\n",
    "    print \"digit: \",digit,\"processed. num_images added so far:\",total_num_img"
   ]
  },
  {
   "cell_type": "code",
   "execution_count": 113,
   "metadata": {
    "collapsed": false
   },
   "outputs": [
    {
     "name": "stdout",
     "output_type": "stream",
     "text": [
      "for digit 0 total number of pairs: 26\n",
      "for digit 1 total number of pairs: 61\n",
      "for digit 2 total number of pairs: 21\n",
      "for digit 3 total number of pairs: 23\n",
      "for digit 4 total number of pairs: 21\n",
      "for digit 5 total number of pairs: 40\n",
      "for digit 6 total number of pairs: 26\n",
      "for digit 7 total number of pairs: 21\n",
      "for digit 8 total number of pairs: 23\n",
      "for digit 9 total number of pairs: 31\n"
     ]
    }
   ],
   "source": [
    "num_iter = 1000000\n",
    "num_diff_pix = {}\n",
    "total_num_img = 0\n",
    "for digit in range(10):\n",
    "    total_num_pairs = 0\n",
    "    num_diff_pix[digit] = generate_candidate_pairs(digit,num_iter)\n",
    "    keylist = sorted(num_diff_pix[digit].keys())\n",
    "    total_keys = len(keylist)\n",
    "    y_imgs = []\n",
    "    for k in keylist[:int(0.05*total_keys)]:\n",
    "        total_num_pairs += len(num_diff_pix[digit][k])\n",
    "    print \"for digit\",digit,\"total number of pairs:\",total_num_pairs\n",
    "    '''\n",
    "        for i1,i2 in num_diff_pix[digit][k]:\n",
    "            x1 = T[digit][i1]\n",
    "            x2 = T[digit][i2]\n",
    "            y_imgs.extend(get_imgs(x1,x2))\n",
    "    pickle.dump(y_imgs,'newdata/')\n",
    "    '''"
   ]
  },
  {
   "cell_type": "code",
   "execution_count": 117,
   "metadata": {
    "collapsed": false
   },
   "outputs": [],
   "source": [
    "pickle.dump(num_diff_pix,open('newdata/num_diff_pix.pkl','w'))"
   ]
  },
  {
   "cell_type": "code",
   "execution_count": 139,
   "metadata": {
    "collapsed": false
   },
   "outputs": [],
   "source": [
    "\n",
    "filename=\"../data/mnist.pkl.gz\"\n",
    "f = gzip.open(filename, 'rb')\n",
    "training_data, validation_data, test_data = cPickle.load(f)"
   ]
  },
  {
   "cell_type": "code",
   "execution_count": 7,
   "metadata": {
    "collapsed": true
   },
   "outputs": [],
   "source": [
    "def save(object, filename, bin = 1):\n",
    "    \"\"\"Saves a compressed object to disk\n",
    "    \"\"\"\n",
    "    file = gzip.GzipFile(filename, 'wb')\n",
    "    file.write(pickle.dumps(object, bin))\n",
    "    file.close()"
   ]
  },
  {
   "cell_type": "code",
   "execution_count": 8,
   "metadata": {
    "collapsed": true
   },
   "outputs": [],
   "source": [
    "def get_imgs(x1,x2):\n",
    "    \n",
    "    x = x2 - x1\n",
    "    S = set(np.nonzero(x)[0])\n",
    "    \n",
    "    y = [0]*len(S)\n",
    "    y[0] = x1\n",
    "\n",
    "    num_S = len(S)\n",
    "    for i in range(1,num_S):\n",
    "        j = select_random_j(S)\n",
    "        S.remove(j)\n",
    "        y[i] = y[i-1] + jx(j,x)\n",
    "        \n",
    "    return y[1:-1]"
   ]
  },
  {
   "cell_type": "code",
   "execution_count": 15,
   "metadata": {
    "collapsed": false
   },
   "outputs": [
    {
     "name": "stdout",
     "output_type": "stream",
     "text": [
      "23601\n",
      "23601\n",
      "58.2416651249\n"
     ]
    }
   ],
   "source": [
    "# @ANKIT:\n",
    "# This code runs in about 60 seconds.\n",
    "# Quite fast. Strangely.\n",
    "# It generates about 20k image arrays.\n",
    "\n",
    "start = time.time()\n",
    "\n",
    "training_imgs = []\n",
    "training_labels = []\n",
    "\n",
    "num_diff_pix = pickle.load(open('newdata/num_diff_pix.pkl','r'))\n",
    "for digit in range(10):\n",
    "    keylist = sorted(num_diff_pix[digit].keys())\n",
    "    total_keys = len(keylist)\n",
    "    newimgs = []\n",
    "    labels = []\n",
    "    #print total_keys\n",
    "    for k in keylist[:int(0.05*total_keys)]:\n",
    "        for i1,i2 in num_diff_pix[digit][k]:\n",
    "            x1 = T[digit][i1]\n",
    "            x2 = T[digit][i2]\n",
    "            N = get_imgs(x1,x2)\n",
    "            newimgs.extend(N)\n",
    "            labels.extend([digit]*len(N))\n",
    "            #print len(N)\n",
    "    training_imgs.extend(newimgs)\n",
    "    training_labels.extend(labels)\n",
    "\n",
    "print len(training_imgs)\n",
    "print len(training_labels)\n",
    "\n",
    "#This thing contains over 20K image arrays and labels and comes to under 1 MB when zipped...\n",
    "save((np.array(training_imgs),np.array(training_labels)),'newdata/mnist-interpolated-smooth-training-data-numpyd.pkl.gz')\n",
    "\n",
    "end = time.time()\n",
    "print (end - start)"
   ]
  },
  {
   "cell_type": "code",
   "execution_count": 16,
   "metadata": {
    "collapsed": false
   },
   "outputs": [
    {
     "name": "stdout",
     "output_type": "stream",
     "text": [
      "6644\n",
      "6644\n",
      "processed digit 0\n",
      "20997\n",
      "20997\n",
      "processed digit 1\n",
      "8057\n",
      "8057\n",
      "processed digit 2\n",
      "12809\n",
      "12809\n",
      "processed digit 3\n",
      "13632\n",
      "13632\n",
      "processed digit 4\n",
      "36082\n",
      "36082\n",
      "processed digit 5\n",
      "14971\n",
      "14971\n",
      "processed digit 6\n",
      "8421\n",
      "8421\n",
      "processed digit 7\n",
      "7738\n",
      "7738\n",
      "processed digit 8\n",
      "23623\n",
      "23623\n",
      "processed digit 9\n",
      "85.8157570362\n"
     ]
    }
   ],
   "source": [
    "# @ANKIT:\n",
    "# This code runs in about 85 seconds.\n",
    "# It generates many, many image arrays (sum up the output to see how many)\n",
    "# I had to split the files to avoid RAM overflow\n",
    "\n",
    "start = time.time()\n",
    "\n",
    "training_imgs = []\n",
    "training_labels = []\n",
    "\n",
    "num_diff_pix = pickle.load(open('newdata/num_diff_pix.pkl','r'))\n",
    "for digit in range(10):\n",
    "    keylist = sorted(num_diff_pix[digit].keys())\n",
    "    total_keys = len(keylist)\n",
    "    newimgs = []\n",
    "    labels = []\n",
    "    #print total_keys\n",
    "    for k in keylist[int(0.05*total_keys):int(0.1*total_keys)]:\n",
    "        for i1,i2 in num_diff_pix[digit][k]:\n",
    "            x1 = T[digit][i1]\n",
    "            x2 = T[digit][i2]\n",
    "            N = get_imgs(x1,x2)\n",
    "            newimgs.extend(N)\n",
    "            labels.extend([digit]*len(N))\n",
    "            #print len(N)\n",
    "    #training_imgs.extend(newimgs)\n",
    "    #training_labels.extend(labels)\n",
    "    print len(newimgs)\n",
    "    print len(labels)\n",
    "    #save((newimgs,labels),'newdata/mnist-interpolated-smooth-training-data-'+str(digit)+'-2.pkl.gz')\n",
    "    save((np.array(newimgs),np.array(newimgs)),'newdata/mnist-interpolated-smooth-training-data'+str(digit)+'-numpyd-2.pkl.gz')\n",
    "    print \"processed digit\",digit\n",
    "\n",
    "end = time.time()\n",
    "print (end - start)"
   ]
  },
  {
   "cell_type": "code",
   "execution_count": null,
   "metadata": {
    "collapsed": true
   },
   "outputs": [],
   "source": []
  }
 ],
 "metadata": {
  "kernelspec": {
   "display_name": "Python 2",
   "language": "python",
   "name": "python2"
  },
  "language_info": {
   "codemirror_mode": {
    "name": "ipython",
    "version": 2
   },
   "file_extension": ".py",
   "mimetype": "text/x-python",
   "name": "python",
   "nbconvert_exporter": "python",
   "pygments_lexer": "ipython2",
   "version": "2.7.6"
  }
 },
 "nbformat": 4,
 "nbformat_minor": 0
}
