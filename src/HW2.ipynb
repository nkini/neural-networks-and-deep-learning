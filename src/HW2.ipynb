{
 "cells": [
  {
   "cell_type": "code",
   "execution_count": 28,
   "metadata": {
    "collapsed": true
   },
   "outputs": [],
   "source": [
    "import network\n",
    "import mnist_loader\n",
    "import random\n",
    "import numpy as np"
   ]
  },
  {
   "cell_type": "code",
   "execution_count": 8,
   "metadata": {
    "collapsed": true
   },
   "outputs": [],
   "source": [
    "training_data, validation_data, test_data = mnist_loader.load_data()"
   ]
  },
  {
   "cell_type": "code",
   "execution_count": 9,
   "metadata": {
    "collapsed": false
   },
   "outputs": [
    {
     "data": {
      "text/plain": [
       "tuple"
      ]
     },
     "execution_count": 9,
     "metadata": {},
     "output_type": "execute_result"
    }
   ],
   "source": [
    "type(training_data)"
   ]
  },
  {
   "cell_type": "code",
   "execution_count": 11,
   "metadata": {
    "collapsed": false
   },
   "outputs": [
    {
     "data": {
      "text/plain": [
       "array([5, 0, 4, ..., 8, 4, 8])"
      ]
     },
     "execution_count": 11,
     "metadata": {},
     "output_type": "execute_result"
    }
   ],
   "source": [
    "training_data[1]"
   ]
  },
  {
   "cell_type": "code",
   "execution_count": 16,
   "metadata": {
    "collapsed": false
   },
   "outputs": [
    {
     "name": "stdout",
     "output_type": "stream",
     "text": [
      "50000\n",
      "50000\n",
      "2\n"
     ]
    }
   ],
   "source": [
    "print len(training_data[0])\n",
    "print len(training_data[1])\n",
    "print len(training_data)"
   ]
  },
  {
   "cell_type": "code",
   "execution_count": 14,
   "metadata": {
    "collapsed": true
   },
   "outputs": [],
   "source": [
    "from collections import defaultdict\n",
    "T = defaultdict(list)"
   ]
  },
  {
   "cell_type": "code",
   "execution_count": 18,
   "metadata": {
    "collapsed": false
   },
   "outputs": [],
   "source": [
    "for img,digit in zip(training_data[0],training_data[1]):\n",
    "    T[digit].append(img)"
   ]
  },
  {
   "cell_type": "code",
   "execution_count": 21,
   "metadata": {
    "collapsed": false
   },
   "outputs": [
    {
     "name": "stdout",
     "output_type": "stream",
     "text": [
      "[0, 1, 2, 3, 4, 5, 6, 7, 8, 9]\n"
     ]
    }
   ],
   "source": [
    "# making sure our d is what we expect it to be\n",
    "print T.keys()"
   ]
  },
  {
   "cell_type": "code",
   "execution_count": 22,
   "metadata": {
    "collapsed": false
   },
   "outputs": [
    {
     "name": "stdout",
     "output_type": "stream",
     "text": [
      "4932\n",
      "5678\n",
      "4968\n",
      "5101\n",
      "4859\n",
      "4506\n",
      "4951\n",
      "5175\n",
      "4842\n",
      "4988\n"
     ]
    }
   ],
   "source": [
    "# Checking the cardinality of T_d for each d\n",
    "#for digit in T.keys():\n",
    "for digit in range(0,10):\n",
    "    print len(T[digit])"
   ]
  },
  {
   "cell_type": "code",
   "execution_count": 26,
   "metadata": {
    "collapsed": false
   },
   "outputs": [],
   "source": [
    "# fix d = 0 for now\n",
    "# choose x1 and x2 uniformly at random\n",
    "i1,i2 = random.sample(xrange(len(T[0])-1),2)\n",
    "#print i1,i2\n",
    "x1,x2 = T[0][i1],T[0][i2]\n",
    "#print x1\n",
    "#print x2"
   ]
  },
  {
   "cell_type": "code",
   "execution_count": 33,
   "metadata": {
    "collapsed": false
   },
   "outputs": [],
   "source": [
    "x = x2 - x1\n",
    "#>>> x = numpy.array([0,1,2,3,0,5,6,0,8,9])\n",
    "#>>> numpy.nonzero(x)\n",
    "#(array([1, 2, 3, 5, 6, 8, 9]),)\n",
    "S = set(np.nonzero(x)[0])"
   ]
  },
  {
   "cell_type": "code",
   "execution_count": 36,
   "metadata": {
    "collapsed": true
   },
   "outputs": [],
   "source": [
    "def jx(j,x):\n",
    "    vec = np.zeros_like(x)\n",
    "    vec[j] = x[j] \n",
    "    return vec\n",
    "\n",
    "def select_random_j(S):\n",
    "    return random.choice(tuple(S))"
   ]
  },
  {
   "cell_type": "code",
   "execution_count": 37,
   "metadata": {
    "collapsed": false
   },
   "outputs": [],
   "source": [
    "y = [0]*len(S)\n",
    "y[0] = x[1]\n",
    "\n",
    "num_S = len(S)\n",
    "for i in range(1,num_S):\n",
    "    j = select_random_j(S)\n",
    "    S.remove(j)\n",
    "    y[i] = y[i-1] + jx(j,x)"
   ]
  },
  {
   "cell_type": "code",
   "execution_count": null,
   "metadata": {
    "collapsed": true
   },
   "outputs": [],
   "source": []
  }
 ],
 "metadata": {
  "kernelspec": {
   "display_name": "Python 2",
   "language": "python",
   "name": "python2"
  },
  "language_info": {
   "codemirror_mode": {
    "name": "ipython",
    "version": 2
   },
   "file_extension": ".py",
   "mimetype": "text/x-python",
   "name": "python",
   "nbconvert_exporter": "python",
   "pygments_lexer": "ipython2",
   "version": "2.7.6"
  }
 },
 "nbformat": 4,
 "nbformat_minor": 0
}
